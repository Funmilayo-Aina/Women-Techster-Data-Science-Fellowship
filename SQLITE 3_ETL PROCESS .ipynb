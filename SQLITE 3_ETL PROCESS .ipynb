{
 "cells": [
  {
   "cell_type": "code",
   "execution_count": 1,
   "metadata": {},
   "outputs": [],
   "source": [
    "import sqlite3"
   ]
  },
  {
   "cell_type": "code",
   "execution_count": null,
   "metadata": {},
   "outputs": [],
   "source": [
    "# Connecting to the SQLIte3 Database"
   ]
  },
  {
   "cell_type": "code",
   "execution_count": 2,
   "metadata": {},
   "outputs": [],
   "source": [
    "con = sqlite3.connect('Employees.db')"
   ]
  },
  {
   "cell_type": "code",
   "execution_count": null,
   "metadata": {},
   "outputs": [],
   "source": [
    "#putting the connector into a container or variable"
   ]
  },
  {
   "cell_type": "code",
   "execution_count": 3,
   "metadata": {},
   "outputs": [],
   "source": [
    "cursor = con.cursor()"
   ]
  },
  {
   "cell_type": "code",
   "execution_count": null,
   "metadata": {},
   "outputs": [],
   "source": [
    "# Creating a table called HR"
   ]
  },
  {
   "cell_type": "code",
   "execution_count": null,
   "metadata": {},
   "outputs": [],
   "source": [
    "cursor.execute(\"CREATE TABLE HR(id integer PRIMARY KEY, name text, status text, salary real, department text, position text, hiredDate)\")\n",
    "\n",
    "con.commit()"
   ]
  },
  {
   "cell_type": "code",
   "execution_count": null,
   "metadata": {},
   "outputs": [],
   "source": [
    "con.commit()"
   ]
  },
  {
   "cell_type": "code",
   "execution_count": null,
   "metadata": {},
   "outputs": [],
   "source": [
    "cursor.execute(\"INSERT INTO HR VALUES (1, 'Kate', 'Yes', 700,'Tech','Manager',2021-07-11 )\")\n",
    "con.commit()"
   ]
  },
  {
   "cell_type": "code",
   "execution_count": 11,
   "metadata": {},
   "outputs": [
    {
     "name": "stdout",
     "output_type": "stream",
     "text": [
      "Enter your ID number: 6\n",
      "Enter your name: Mary Aina\n",
      "What is your status ?: Yes\n",
      "Enter your salary: 90000000\n",
      "Enter your department: Technical\n",
      "What is your postion?: Senior Data Scientist\n",
      "Enter Date YYYY-M-D: 2021-01-07\n",
      "Your Data has been recorded sucessfully!\n",
      "Do you want to to continue? Enter 1 to continue , Enter 0 to Quit\n",
      "0\n",
      "Thank You!\n"
     ]
    }
   ],
   "source": [
    "counter=True \n",
    "while counter:\n",
    "\n",
    "\n",
    "    user_id = int(input('Enter your ID number: '))\n",
    "    name = input('Enter your name: ')\n",
    "    status = input('What is your status ?: ')\n",
    "    salary = float(input('Enter your salary: '))\n",
    "    department = input('Enter your department: ')\n",
    "    position = input('What is your postion?: ')\n",
    "    hireDate = input('Enter Date YYYY-M-D: ')\n",
    "    entities = (user_id,name,status,salary,department,position,hireDate)\n",
    "    cursor.execute(\"INSERT INTO HR(id,name,status,salary,department,position,hiredDate)VALUES (?,?,?,?,?,?,?)\",entities)\n",
    "    con.commit()\n",
    "    print('Your Data has been recorded sucessfully!')\n",
    "    value= int(input('Do you want to to continue? Enter 1 to continue , Enter 0 to Quit\\n'))\n",
    "    if value == 1:\n",
    "        pass\n",
    "    elif value == 0:\n",
    "        print('Thank You!')\n",
    "        counter= False\n",
    "    else:\n",
    "        break\n"
   ]
  },
  {
   "cell_type": "code",
   "execution_count": null,
   "metadata": {},
   "outputs": [],
   "source": [
    "# querying data from the data base"
   ]
  },
  {
   "cell_type": "code",
   "execution_count": 12,
   "metadata": {},
   "outputs": [],
   "source": [
    "cursor.execute(\"SELECT * FROM HR\")\n",
    "\n",
    "rows=cursor.fetchall()\n"
   ]
  },
  {
   "cell_type": "code",
   "execution_count": 13,
   "metadata": {},
   "outputs": [
    {
     "name": "stdout",
     "output_type": "stream",
     "text": [
      "(1, 'Kate', 'Yes', 700.0, 'Tech', 'Manager', 2003)\n",
      "(2, 'Maria', 'Yes', 6000.0, 'tech', 'Trainer', '2021-08-09')\n",
      "(3, 'Fanny A', 'No', 3000.0, 'Product design', 'Admin', '2021-09-08')\n",
      "(4, 'Chinenye Vivian', 'Yes', 7000.0, 'Technical', 'Data Sceintist', '2021-07-07')\n",
      "(5, 'Emeto Winner', 'Yes', 90000.0, 'Technical', 'facilitator', '2021-01-03')\n",
      "(6, 'Mary Aina', 'Yes', 90000000.0, 'Technical', 'Senior Data Scientist', '2021-01-07')\n"
     ]
    }
   ],
   "source": [
    "for row in rows:\n",
    "    print(row)"
   ]
  },
  {
   "cell_type": "markdown",
   "metadata": {},
   "source": [
    "### DATA TRANSFORMATION"
   ]
  },
  {
   "cell_type": "code",
   "execution_count": 14,
   "metadata": {},
   "outputs": [],
   "source": [
    "mydict={}\n",
    " "
   ]
  },
  {
   "cell_type": "code",
   "execution_count": 15,
   "metadata": {},
   "outputs": [
    {
     "name": "stdout",
     "output_type": "stream",
     "text": [
      "(1, 'Kate', 'Yes', 700.0, 'Tech', 'Manager', 2003)\n",
      "(1, 'Kate', 'Yes', 700.0, 'Tech', 'Manager', 2003)\n",
      "(2, 'Maria', 'Yes', 6000.0, 'tech', 'Trainer', '2021-08-09')\n",
      "(1, 'Kate', 'Yes', 700.0, 'Tech', 'Manager', 2003)\n",
      "(3, 'Fanny A', 'No', 3000.0, 'Product design', 'Admin', '2021-09-08')\n",
      "(1, 'Kate', 'Yes', 700.0, 'Tech', 'Manager', 2003)\n",
      "(4, 'Chinenye Vivian', 'Yes', 7000.0, 'Technical', 'Data Sceintist', '2021-07-07')\n",
      "(1, 'Kate', 'Yes', 700.0, 'Tech', 'Manager', 2003)\n",
      "(5, 'Emeto Winner', 'Yes', 90000.0, 'Technical', 'facilitator', '2021-01-03')\n",
      "(1, 'Kate', 'Yes', 700.0, 'Tech', 'Manager', 2003)\n",
      "(6, 'Mary Aina', 'Yes', 90000000.0, 'Technical', 'Senior Data Scientist', '2021-01-07')\n",
      "(1, 'Kate', 'Yes', 700.0, 'Tech', 'Manager', 2003)\n"
     ]
    }
   ],
   "source": [
    " for row in rows:\n",
    "    print(row)\n",
    "    print(rows[0])\n",
    "    "
   ]
  },
  {
   "cell_type": "code",
   "execution_count": 16,
   "metadata": {},
   "outputs": [],
   "source": [
    "mylist=[]"
   ]
  },
  {
   "cell_type": "code",
   "execution_count": 17,
   "metadata": {},
   "outputs": [],
   "source": [
    "for row in rows:\n",
    "    mylist.append({'id':row[0],'name':row[1],'status':row[2],'salary':row[3],'department':row[4],'position':row[5],'hiredDate':row[6]})"
   ]
  },
  {
   "cell_type": "code",
   "execution_count": 18,
   "metadata": {},
   "outputs": [
    {
     "name": "stdout",
     "output_type": "stream",
     "text": [
      "[{'id': 1, 'name': 'Kate', 'status': 'Yes', 'salary': 700.0, 'department': 'Tech', 'position': 'Manager', 'hiredDate': 2003}, {'id': 2, 'name': 'Maria', 'status': 'Yes', 'salary': 6000.0, 'department': 'tech', 'position': 'Trainer', 'hiredDate': '2021-08-09'}, {'id': 3, 'name': 'Fanny A', 'status': 'No', 'salary': 3000.0, 'department': 'Product design', 'position': 'Admin', 'hiredDate': '2021-09-08'}, {'id': 4, 'name': 'Chinenye Vivian', 'status': 'Yes', 'salary': 7000.0, 'department': 'Technical', 'position': 'Data Sceintist', 'hiredDate': '2021-07-07'}, {'id': 5, 'name': 'Emeto Winner', 'status': 'Yes', 'salary': 90000.0, 'department': 'Technical', 'position': 'facilitator', 'hiredDate': '2021-01-03'}, {'id': 6, 'name': 'Mary Aina', 'status': 'Yes', 'salary': 90000000.0, 'department': 'Technical', 'position': 'Senior Data Scientist', 'hiredDate': '2021-01-07'}]\n"
     ]
    }
   ],
   "source": [
    "print(mylist)"
   ]
  },
  {
   "cell_type": "code",
   "execution_count": 19,
   "metadata": {},
   "outputs": [],
   "source": [
    "import pandas as pd"
   ]
  },
  {
   "cell_type": "code",
   "execution_count": 20,
   "metadata": {},
   "outputs": [
    {
     "data": {
      "text/html": [
       "<div>\n",
       "<style scoped>\n",
       "    .dataframe tbody tr th:only-of-type {\n",
       "        vertical-align: middle;\n",
       "    }\n",
       "\n",
       "    .dataframe tbody tr th {\n",
       "        vertical-align: top;\n",
       "    }\n",
       "\n",
       "    .dataframe thead th {\n",
       "        text-align: right;\n",
       "    }\n",
       "</style>\n",
       "<table border=\"1\" class=\"dataframe\">\n",
       "  <thead>\n",
       "    <tr style=\"text-align: right;\">\n",
       "      <th></th>\n",
       "      <th>id</th>\n",
       "      <th>name</th>\n",
       "      <th>status</th>\n",
       "      <th>salary</th>\n",
       "      <th>department</th>\n",
       "      <th>position</th>\n",
       "      <th>hiredDate</th>\n",
       "    </tr>\n",
       "  </thead>\n",
       "  <tbody>\n",
       "    <tr>\n",
       "      <th>0</th>\n",
       "      <td>1</td>\n",
       "      <td>Kate</td>\n",
       "      <td>Yes</td>\n",
       "      <td>700.0</td>\n",
       "      <td>Tech</td>\n",
       "      <td>Manager</td>\n",
       "      <td>2003</td>\n",
       "    </tr>\n",
       "    <tr>\n",
       "      <th>1</th>\n",
       "      <td>2</td>\n",
       "      <td>Maria</td>\n",
       "      <td>Yes</td>\n",
       "      <td>6000.0</td>\n",
       "      <td>tech</td>\n",
       "      <td>Trainer</td>\n",
       "      <td>2021-08-09</td>\n",
       "    </tr>\n",
       "    <tr>\n",
       "      <th>2</th>\n",
       "      <td>3</td>\n",
       "      <td>Fanny A</td>\n",
       "      <td>No</td>\n",
       "      <td>3000.0</td>\n",
       "      <td>Product design</td>\n",
       "      <td>Admin</td>\n",
       "      <td>2021-09-08</td>\n",
       "    </tr>\n",
       "    <tr>\n",
       "      <th>3</th>\n",
       "      <td>4</td>\n",
       "      <td>Chinenye Vivian</td>\n",
       "      <td>Yes</td>\n",
       "      <td>7000.0</td>\n",
       "      <td>Technical</td>\n",
       "      <td>Data Sceintist</td>\n",
       "      <td>2021-07-07</td>\n",
       "    </tr>\n",
       "    <tr>\n",
       "      <th>4</th>\n",
       "      <td>5</td>\n",
       "      <td>Emeto Winner</td>\n",
       "      <td>Yes</td>\n",
       "      <td>90000.0</td>\n",
       "      <td>Technical</td>\n",
       "      <td>facilitator</td>\n",
       "      <td>2021-01-03</td>\n",
       "    </tr>\n",
       "    <tr>\n",
       "      <th>5</th>\n",
       "      <td>6</td>\n",
       "      <td>Mary Aina</td>\n",
       "      <td>Yes</td>\n",
       "      <td>90000000.0</td>\n",
       "      <td>Technical</td>\n",
       "      <td>Senior Data Scientist</td>\n",
       "      <td>2021-01-07</td>\n",
       "    </tr>\n",
       "  </tbody>\n",
       "</table>\n",
       "</div>"
      ],
      "text/plain": [
       "   id             name status      salary      department  \\\n",
       "0   1             Kate    Yes       700.0            Tech   \n",
       "1   2            Maria    Yes      6000.0            tech   \n",
       "2   3          Fanny A     No      3000.0  Product design   \n",
       "3   4  Chinenye Vivian    Yes      7000.0       Technical   \n",
       "4   5     Emeto Winner    Yes     90000.0       Technical   \n",
       "5   6        Mary Aina    Yes  90000000.0       Technical   \n",
       "\n",
       "                position   hiredDate  \n",
       "0                Manager        2003  \n",
       "1                Trainer  2021-08-09  \n",
       "2                  Admin  2021-09-08  \n",
       "3         Data Sceintist  2021-07-07  \n",
       "4            facilitator  2021-01-03  \n",
       "5  Senior Data Scientist  2021-01-07  "
      ]
     },
     "execution_count": 20,
     "metadata": {},
     "output_type": "execute_result"
    }
   ],
   "source": [
    "df= pd.DataFrame(mylist)\n",
    "df"
   ]
  },
  {
   "cell_type": "code",
   "execution_count": null,
   "metadata": {},
   "outputs": [],
   "source": []
  },
  {
   "cell_type": "code",
   "execution_count": null,
   "metadata": {},
   "outputs": [],
   "source": [
    "(id,name,status,salary,department,position,hiredDate"
   ]
  }
 ],
 "metadata": {
  "kernelspec": {
   "display_name": "Python 3",
   "language": "python",
   "name": "python3"
  },
  "language_info": {
   "codemirror_mode": {
    "name": "ipython",
    "version": 3
   },
   "file_extension": ".py",
   "mimetype": "text/x-python",
   "name": "python",
   "nbconvert_exporter": "python",
   "pygments_lexer": "ipython3",
   "version": "3.8.5"
  }
 },
 "nbformat": 4,
 "nbformat_minor": 4
}
