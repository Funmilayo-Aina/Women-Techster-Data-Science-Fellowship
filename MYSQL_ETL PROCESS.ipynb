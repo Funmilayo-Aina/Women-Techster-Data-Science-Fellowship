{
 "cells": [
  {
   "cell_type": "markdown",
   "metadata": {},
   "source": [
    "### Connecting to the Mysql server"
   ]
  },
  {
   "cell_type": "code",
   "execution_count": 2,
   "metadata": {},
   "outputs": [],
   "source": [
    "import mysql.connector\n",
    "mydb = mysql.connector.connect(host=\"localhost\", user=\"root\",password=\"\")"
   ]
  },
  {
   "cell_type": "code",
   "execution_count": 3,
   "metadata": {},
   "outputs": [],
   "source": [
    "#Confirm the connection"
   ]
  },
  {
   "cell_type": "code",
   "execution_count": 8,
   "metadata": {},
   "outputs": [
    {
     "data": {
      "text/plain": [
       "<mysql.connector.connection.MySQLConnection at 0x21b0bcbaaf0>"
      ]
     },
     "execution_count": 8,
     "metadata": {},
     "output_type": "execute_result"
    }
   ],
   "source": [
    "mydb"
   ]
  },
  {
   "cell_type": "code",
   "execution_count": 9,
   "metadata": {},
   "outputs": [],
   "source": [
    "## create an instance of the connection and connect to the database"
   ]
  },
  {
   "cell_type": "code",
   "execution_count": 10,
   "metadata": {},
   "outputs": [],
   "source": [
    "cursor=mydb.cursor()"
   ]
  },
  {
   "cell_type": "code",
   "execution_count": 13,
   "metadata": {},
   "outputs": [],
   "source": [
    "cursor.execute(\"USE employees\")"
   ]
  },
  {
   "cell_type": "code",
   "execution_count": 14,
   "metadata": {},
   "outputs": [],
   "source": [
    "mydb = mysql.connector.connect(host=\"localhost\", user=\"root\",password=\"\",database =\"employees\")"
   ]
  },
  {
   "cell_type": "code",
   "execution_count": 15,
   "metadata": {},
   "outputs": [],
   "source": [
    "cursor= mydb.cursor()"
   ]
  },
  {
   "cell_type": "markdown",
   "metadata": {},
   "source": [
    "### INSERTING DATA INTO THE DATABASE AND EXTRACTION"
   ]
  },
  {
   "cell_type": "code",
   "execution_count": 16,
   "metadata": {},
   "outputs": [],
   "source": [
    "cursor.execute(\"CREATE TABLE IT (id INT AUTO_INCREMENT PRIMARY KEY, name VARCHAR(255), status VARCHAR(255), salary INT, department VARCHAR(255), position VARCHAR(255), high_date VARCHAR(255))\")\n",
    "mydb.commit()"
   ]
  },
  {
   "cell_type": "code",
   "execution_count": 18,
   "metadata": {},
   "outputs": [
    {
     "name": "stdout",
     "output_type": "stream",
     "text": [
      "Enter your name: Peter Obong\n",
      "Enter your statusNo\n",
      "Enter your salary: 2000\n",
      "Enter your department: maintenances\n",
      "Enter your position: Cleaner\n",
      "Enter date \"YYYY-M-D\": 2021-08-01\n",
      "Data has been inserted!!!\n",
      "Do you want to continue?\n",
      "Enter 1 to continue and 0 to quit1\n",
      "Enter your name: Betty Irabor\n",
      "Enter your statusYes\n",
      "Enter your salary: 200000\n",
      "Enter your department: Technical\n",
      "Enter your position: Data Analyst\n",
      "Enter date \"YYYY-M-D\": 2021-09-09\n",
      "Data has been inserted!!!\n",
      "Do you want to continue?\n",
      "Enter 1 to continue and 0 to quit1\n",
      "Enter your name: Adegbola Olorunloju\n",
      "Enter your statusYes\n",
      "Enter your salary: 30000\n",
      "Enter your department: Techncal\n",
      "Enter your position: Quality Analyst\n",
      "Enter date \"YYYY-M-D\": 2021-08-01\n",
      "Data has been inserted!!!\n",
      "Do you want to continue?\n",
      "Enter 1 to continue and 0 to quit1\n",
      "Enter your name: Mercy Joy\n",
      "Enter your statusSenior Data Scientist\n",
      "Enter your salary: 4000000\n",
      "Enter your department: IT\n",
      "Enter your position: Senior Data Scientist\n",
      "Enter date \"YYYY-M-D\": 2021-08-08\n",
      "Data has been inserted!!!\n",
      "Do you want to continue?\n",
      "Enter 1 to continue and 0 to quit1\n",
      "Enter your name: Funmilayo Aina\n",
      "Enter your statusYes\n",
      "Enter your salary: 9000000000\n",
      "Enter your department: Technical\n",
      "Enter your position: Chief Data Scientist\n",
      "Enter date \"YYYY-M-D\": 2021-09-09\n",
      "Data has been inserted!!!\n",
      "Do you want to continue?\n",
      "Enter 1 to continue and 0 to quit0\n",
      "Thank you!!\n"
     ]
    }
   ],
   "source": [
    "counter = True\n",
    "while counter:\n",
    "    name = input('Enter your name: ')\n",
    "    status = input('Enter your status')\n",
    "    salary = int(input('Enter your salary: '))\n",
    "    department = input('Enter your department: ')\n",
    "    position = input('Enter your position: ')\n",
    "    date = input('Enter date \"YYYY-M-D\": ')\n",
    "    vals = (name,status,salary,department,position,date)\n",
    "    sql = \"INSERT INTO IT(name,status,salary,department,position,high_date) VALUES(%s,%s,%s,%s,%s,%s)\"\n",
    "    cursor.execute(sql,vals)\n",
    "    mydb.commit()\n",
    "    print('Data has been inserted!!!')\n",
    "    print('Do you want to continue?')\n",
    "    value = int(input(\"Enter 1 to continue and 0 to quit\"))\n",
    "    if value == 1:\n",
    "        pass\n",
    "    elif value == 0:\n",
    "        print('Thank you!!')\n",
    "        counter = False\n",
    "    else:\n",
    "        break"
   ]
  },
  {
   "cell_type": "code",
   "execution_count": 19,
   "metadata": {},
   "outputs": [
    {
     "name": "stdout",
     "output_type": "stream",
     "text": [
      "[(1, 'Emeto Winner', 'Yes', 90000, 'IT', 'Facilitator', '2021-08-04'), (2, 'Peter Obong', 'No', 2000, 'maintenances', 'Cleaner', '2021-08-01'), (3, 'Betty Irabor', 'Yes', 200000, 'Technical', 'Data Analyst', '2021-09-09'), (4, 'Adegbola Olorunloju', 'Yes', 30000, 'Techncal', 'Quality Analyst', '2021-08-01'), (5, 'Mercy Joy', 'Senior Data Scientist', 4000000, 'IT', 'Senior Data Scientist', '2021-08-08'), (6, 'Funmilayo Aina', 'Yes', 2147483647, 'Technical', 'Chief Data Scientist', '2021-09-09')]\n"
     ]
    }
   ],
   "source": [
    "cursor.execute(\"SELECT * FROM IT\")\n",
    "rows = cursor.fetchall()\n",
    "print(rows)"
   ]
  },
  {
   "cell_type": "markdown",
   "metadata": {},
   "source": [
    "### TRANSFORMATION PROCESS"
   ]
  },
  {
   "cell_type": "code",
   "execution_count": 20,
   "metadata": {},
   "outputs": [],
   "source": [
    "mylist = []"
   ]
  },
  {
   "cell_type": "code",
   "execution_count": 24,
   "metadata": {},
   "outputs": [],
   "source": [
    "# creating a list of dictionary "
   ]
  },
  {
   "cell_type": "code",
   "execution_count": 22,
   "metadata": {},
   "outputs": [],
   "source": [
    "for row in rows:\n",
    "    mylist.append({'id':row[0], 'name':row[1], 'status':row[2], 'salary':row[3], 'department':row[4], 'position':row[5], 'data':row[6]})"
   ]
  },
  {
   "cell_type": "code",
   "execution_count": 25,
   "metadata": {},
   "outputs": [
    {
     "data": {
      "text/plain": [
       "[{'id': 1,\n",
       "  'name': 'Emeto Winner',\n",
       "  'status': 'Yes',\n",
       "  'salary': 90000,\n",
       "  'department': 'IT',\n",
       "  'position': 'Facilitator',\n",
       "  'data': '2021-08-04'},\n",
       " {'id': 2,\n",
       "  'name': 'Peter Obong',\n",
       "  'status': 'No',\n",
       "  'salary': 2000,\n",
       "  'department': 'maintenances',\n",
       "  'position': 'Cleaner',\n",
       "  'data': '2021-08-01'},\n",
       " {'id': 3,\n",
       "  'name': 'Betty Irabor',\n",
       "  'status': 'Yes',\n",
       "  'salary': 200000,\n",
       "  'department': 'Technical',\n",
       "  'position': 'Data Analyst',\n",
       "  'data': '2021-09-09'},\n",
       " {'id': 4,\n",
       "  'name': 'Adegbola Olorunloju',\n",
       "  'status': 'Yes',\n",
       "  'salary': 30000,\n",
       "  'department': 'Techncal',\n",
       "  'position': 'Quality Analyst',\n",
       "  'data': '2021-08-01'},\n",
       " {'id': 5,\n",
       "  'name': 'Mercy Joy',\n",
       "  'status': 'Senior Data Scientist',\n",
       "  'salary': 4000000,\n",
       "  'department': 'IT',\n",
       "  'position': 'Senior Data Scientist',\n",
       "  'data': '2021-08-08'},\n",
       " {'id': 6,\n",
       "  'name': 'Funmilayo Aina',\n",
       "  'status': 'Yes',\n",
       "  'salary': 2147483647,\n",
       "  'department': 'Technical',\n",
       "  'position': 'Chief Data Scientist',\n",
       "  'data': '2021-09-09'}]"
      ]
     },
     "execution_count": 25,
     "metadata": {},
     "output_type": "execute_result"
    }
   ],
   "source": [
    "mylist"
   ]
  },
  {
   "cell_type": "code",
   "execution_count": 26,
   "metadata": {},
   "outputs": [],
   "source": [
    "import pandas as pd"
   ]
  },
  {
   "cell_type": "code",
   "execution_count": 27,
   "metadata": {},
   "outputs": [
    {
     "data": {
      "text/html": [
       "<div>\n",
       "<style scoped>\n",
       "    .dataframe tbody tr th:only-of-type {\n",
       "        vertical-align: middle;\n",
       "    }\n",
       "\n",
       "    .dataframe tbody tr th {\n",
       "        vertical-align: top;\n",
       "    }\n",
       "\n",
       "    .dataframe thead th {\n",
       "        text-align: right;\n",
       "    }\n",
       "</style>\n",
       "<table border=\"1\" class=\"dataframe\">\n",
       "  <thead>\n",
       "    <tr style=\"text-align: right;\">\n",
       "      <th></th>\n",
       "      <th>id</th>\n",
       "      <th>name</th>\n",
       "      <th>status</th>\n",
       "      <th>salary</th>\n",
       "      <th>department</th>\n",
       "      <th>position</th>\n",
       "      <th>data</th>\n",
       "    </tr>\n",
       "  </thead>\n",
       "  <tbody>\n",
       "    <tr>\n",
       "      <th>0</th>\n",
       "      <td>1</td>\n",
       "      <td>Emeto Winner</td>\n",
       "      <td>Yes</td>\n",
       "      <td>90000</td>\n",
       "      <td>IT</td>\n",
       "      <td>Facilitator</td>\n",
       "      <td>2021-08-04</td>\n",
       "    </tr>\n",
       "    <tr>\n",
       "      <th>1</th>\n",
       "      <td>2</td>\n",
       "      <td>Peter Obong</td>\n",
       "      <td>No</td>\n",
       "      <td>2000</td>\n",
       "      <td>maintenances</td>\n",
       "      <td>Cleaner</td>\n",
       "      <td>2021-08-01</td>\n",
       "    </tr>\n",
       "    <tr>\n",
       "      <th>2</th>\n",
       "      <td>3</td>\n",
       "      <td>Betty Irabor</td>\n",
       "      <td>Yes</td>\n",
       "      <td>200000</td>\n",
       "      <td>Technical</td>\n",
       "      <td>Data Analyst</td>\n",
       "      <td>2021-09-09</td>\n",
       "    </tr>\n",
       "    <tr>\n",
       "      <th>3</th>\n",
       "      <td>4</td>\n",
       "      <td>Adegbola Olorunloju</td>\n",
       "      <td>Yes</td>\n",
       "      <td>30000</td>\n",
       "      <td>Techncal</td>\n",
       "      <td>Quality Analyst</td>\n",
       "      <td>2021-08-01</td>\n",
       "    </tr>\n",
       "    <tr>\n",
       "      <th>4</th>\n",
       "      <td>5</td>\n",
       "      <td>Mercy Joy</td>\n",
       "      <td>Senior Data Scientist</td>\n",
       "      <td>4000000</td>\n",
       "      <td>IT</td>\n",
       "      <td>Senior Data Scientist</td>\n",
       "      <td>2021-08-08</td>\n",
       "    </tr>\n",
       "    <tr>\n",
       "      <th>5</th>\n",
       "      <td>6</td>\n",
       "      <td>Funmilayo Aina</td>\n",
       "      <td>Yes</td>\n",
       "      <td>2147483647</td>\n",
       "      <td>Technical</td>\n",
       "      <td>Chief Data Scientist</td>\n",
       "      <td>2021-09-09</td>\n",
       "    </tr>\n",
       "  </tbody>\n",
       "</table>\n",
       "</div>"
      ],
      "text/plain": [
       "   id                 name                 status      salary    department  \\\n",
       "0   1         Emeto Winner                    Yes       90000            IT   \n",
       "1   2          Peter Obong                     No        2000  maintenances   \n",
       "2   3         Betty Irabor                    Yes      200000     Technical   \n",
       "3   4  Adegbola Olorunloju                    Yes       30000      Techncal   \n",
       "4   5            Mercy Joy  Senior Data Scientist     4000000            IT   \n",
       "5   6       Funmilayo Aina                    Yes  2147483647     Technical   \n",
       "\n",
       "                position        data  \n",
       "0            Facilitator  2021-08-04  \n",
       "1                Cleaner  2021-08-01  \n",
       "2           Data Analyst  2021-09-09  \n",
       "3        Quality Analyst  2021-08-01  \n",
       "4  Senior Data Scientist  2021-08-08  \n",
       "5   Chief Data Scientist  2021-09-09  "
      ]
     },
     "execution_count": 27,
     "metadata": {},
     "output_type": "execute_result"
    }
   ],
   "source": [
    "df = pd.DataFrame(mylist)\n",
    "df"
   ]
  },
  {
   "cell_type": "code",
   "execution_count": null,
   "metadata": {},
   "outputs": [],
   "source": []
  }
 ],
 "metadata": {
  "kernelspec": {
   "display_name": "Python 3",
   "language": "python",
   "name": "python3"
  },
  "language_info": {
   "codemirror_mode": {
    "name": "ipython",
    "version": 3
   },
   "file_extension": ".py",
   "mimetype": "text/x-python",
   "name": "python",
   "nbconvert_exporter": "python",
   "pygments_lexer": "ipython3",
   "version": "3.8.5"
  }
 },
 "nbformat": 4,
 "nbformat_minor": 4
}
