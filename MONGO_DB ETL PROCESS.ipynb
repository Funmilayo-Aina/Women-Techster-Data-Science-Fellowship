{
 "cells": [
  {
   "cell_type": "code",
   "execution_count": 1,
   "metadata": {},
   "outputs": [],
   "source": [
    "import pymongo"
   ]
  },
  {
   "cell_type": "code",
   "execution_count": 2,
   "metadata": {},
   "outputs": [],
   "source": [
    "myclient = pymongo.MongoClient('mongodb://localhost:27017') #initializing a mongodb connection #default"
   ]
  },
  {
   "cell_type": "code",
   "execution_count": 3,
   "metadata": {},
   "outputs": [],
   "source": [
    "#createsadatabase called employees"
   ]
  },
  {
   "cell_type": "code",
   "execution_count": 4,
   "metadata": {},
   "outputs": [],
   "source": [
    "mydb = myclient['employees'] "
   ]
  },
  {
   "cell_type": "code",
   "execution_count": 5,
   "metadata": {},
   "outputs": [],
   "source": [
    "#creates a table(collection) called transactions"
   ]
  },
  {
   "cell_type": "code",
   "execution_count": 6,
   "metadata": {},
   "outputs": [],
   "source": [
    "mycol = mydb['transactions'] "
   ]
  },
  {
   "cell_type": "code",
   "execution_count": 7,
   "metadata": {},
   "outputs": [],
   "source": [
    "columns = [\"id\",\"name\",\"product\",\"amount\",\"saleprice\",\"status\",\"date\"]"
   ]
  },
  {
   "cell_type": "code",
   "execution_count": 8,
   "metadata": {},
   "outputs": [],
   "source": [
    "## to enter a single record"
   ]
  },
  {
   "cell_type": "code",
   "execution_count": 9,
   "metadata": {},
   "outputs": [],
   "source": [
    "#mydict = {\"_id\":\"001\",\"name\":\"Mary A\",\"product\":\"book\",\"amount\":\"900\",\"saleprice\":\"15\",\"status\":\"sold\",\"date\":\"2021-07-08\"}\n",
    "#x = mycol.insert_one(mydict)"
   ]
  },
  {
   "cell_type": "code",
   "execution_count": 21,
   "metadata": {},
   "outputs": [
    {
     "name": "stdout",
     "output_type": "stream",
     "text": [
      "Id: 16\n",
      "Name: mARIA DB\n",
      "Product: ANY\n",
      "Amount: 100\n",
      "Saleprice: 1000\n",
      "Status: Unbranded\n",
      "Date YYYY-M-D: 2021-09-03\n",
      "Data has been inserted!!!\n",
      "Do you want to continue?\n",
      "Enter 1 to continue and 0 to quit: 0\n",
      "Thank you!!\n"
     ]
    }
   ],
   "source": [
    "counter = True\n",
    "while counter:\n",
    "    user_id = input(\"Id: \")\n",
    "    name = input(\"Name: \")\n",
    "    product= input(\"Product: \")\n",
    "    amount = int(input(\"Amount: \"))\n",
    "    saleprice = float(input(\"Saleprice: \"))\n",
    "    status = input(\"Status: \")\n",
    "    date = input(\"Date YYYY-M-D: \")\n",
    "    \n",
    "    mydict = {\"_id\":user_id,\"name\":name,\"product\":product,\"amount\":amount,\"saleprice\":saleprice,\"status\":status,\"date\":date}\n",
    "    x = mycol.insert_one(mydict)\n",
    "    \n",
    "    print('Data has been inserted!!!')\n",
    "    print('Do you want to continue?')\n",
    "    value = int(input(\"Enter 1 to continue and 0 to quit: \"))\n",
    "    if value == 1:\n",
    "        pass\n",
    "    elif value == 0:\n",
    "        print('Thank you!!')\n",
    "        counter = False\n",
    "    else:\n",
    "        break"
   ]
  },
  {
   "cell_type": "code",
   "execution_count": 35,
   "metadata": {},
   "outputs": [
    {
     "data": {
      "text/plain": [
       "<pymongo.cursor.Cursor at 0x2b188416610>"
      ]
     },
     "execution_count": 35,
     "metadata": {},
     "output_type": "execute_result"
    }
   ],
   "source": [
    "x=mycol.find()\n",
    "x"
   ]
  },
  {
   "cell_type": "code",
   "execution_count": 36,
   "metadata": {},
   "outputs": [
    {
     "name": "stdout",
     "output_type": "stream",
     "text": [
      "{'_id': '001', 'name': 'Mary A', 'product': 'book', 'amount': '900', 'saleprice': '15', 'status': 'sold', 'date': '2021-07-08'}\n",
      "{'_id': '1', 'name': 'Aniita', 'product': 'Phone', 'amount': 2000, 'saleprice': 50000.0, 'status': 'Valid', 'date': '2021-07-08'}\n",
      "{'_id': 'Mary', 'name': 'Mary', 'product': 'Car', 'amount': 2, 'saleprice': 5000000.0, 'status': 'Valid', 'date': '2021-07-08'}\n",
      "{'_id': 'Kolawole', 'name': 'Kolawole', 'product': 'Car', 'amount': 4, 'saleprice': 1000000000.0, 'status': 'Valid', 'date': '2021-07-08'}\n",
      "{'_id': '2', 'name': 'Mary', 'product': 'Car', 'amount': 2, 'saleprice': 2000000.0, 'status': 'Valid', 'date': '2021-07-08'}\n",
      "{'_id': '11', 'name': 'marvellous A', 'product': 'Pen', 'amount': 20, 'saleprice': 300.0, 'status': 'Branded', 'date': '2021-03-04'}\n",
      "{'_id': '12', 'name': 'Monday Goodness', 'product': 'Book', 'amount': 4, 'saleprice': 4000.0, 'status': 'Unbranded', 'date': '2021-05-09'}\n",
      "{'_id': '15', 'name': 'Miracle A', 'product': 'car', 'amount': 4, 'saleprice': 9000000.0, 'status': 'Branded', 'date': '2022-01-01'}\n",
      "{'_id': '14', 'name': 'Favour S', 'product': 'Houses', 'amount': 3, 'saleprice': 5000000.0, 'status': 'Branded', 'date': '2022-01-01'}\n",
      "{'_id': '16', 'name': 'mARIA DB', 'product': 'ANY', 'amount': 100, 'saleprice': 1000.0, 'status': 'Unbranded', 'date': '2021-09-03'}\n"
     ]
    }
   ],
   "source": [
    "for data in mycol.find():\n",
    "    print(data)"
   ]
  },
  {
   "cell_type": "markdown",
   "metadata": {},
   "source": [
    "### ETL TRANSFORMATION PROCESS"
   ]
  },
  {
   "cell_type": "code",
   "execution_count": 37,
   "metadata": {},
   "outputs": [],
   "source": [
    "mylist = []"
   ]
  },
  {
   "cell_type": "code",
   "execution_count": 38,
   "metadata": {},
   "outputs": [
    {
     "name": "stdout",
     "output_type": "stream",
     "text": [
      "{'_id': '001', 'name': 'Mary A', 'product': 'book', 'amount': '900', 'saleprice': '15', 'status': 'sold', 'date': '2021-07-08'}\n",
      "{'_id': '1', 'name': 'Aniita', 'product': 'Phone', 'amount': 2000, 'saleprice': 50000.0, 'status': 'Valid', 'date': '2021-07-08'}\n",
      "{'_id': 'Mary', 'name': 'Mary', 'product': 'Car', 'amount': 2, 'saleprice': 5000000.0, 'status': 'Valid', 'date': '2021-07-08'}\n",
      "{'_id': 'Kolawole', 'name': 'Kolawole', 'product': 'Car', 'amount': 4, 'saleprice': 1000000000.0, 'status': 'Valid', 'date': '2021-07-08'}\n",
      "{'_id': '2', 'name': 'Mary', 'product': 'Car', 'amount': 2, 'saleprice': 2000000.0, 'status': 'Valid', 'date': '2021-07-08'}\n",
      "{'_id': '11', 'name': 'marvellous A', 'product': 'Pen', 'amount': 20, 'saleprice': 300.0, 'status': 'Branded', 'date': '2021-03-04'}\n",
      "{'_id': '12', 'name': 'Monday Goodness', 'product': 'Book', 'amount': 4, 'saleprice': 4000.0, 'status': 'Unbranded', 'date': '2021-05-09'}\n",
      "{'_id': '15', 'name': 'Miracle A', 'product': 'car', 'amount': 4, 'saleprice': 9000000.0, 'status': 'Branded', 'date': '2022-01-01'}\n",
      "{'_id': '14', 'name': 'Favour S', 'product': 'Houses', 'amount': 3, 'saleprice': 5000000.0, 'status': 'Branded', 'date': '2022-01-01'}\n",
      "{'_id': '16', 'name': 'mARIA DB', 'product': 'ANY', 'amount': 100, 'saleprice': 1000.0, 'status': 'Unbranded', 'date': '2021-09-03'}\n"
     ]
    }
   ],
   "source": [
    "for data in x:\n",
    "    mylist.append(data)\n",
    "    print(data)"
   ]
  },
  {
   "cell_type": "code",
   "execution_count": 39,
   "metadata": {},
   "outputs": [
    {
     "name": "stdout",
     "output_type": "stream",
     "text": [
      "[{'_id': '001', 'name': 'Mary A', 'product': 'book', 'amount': '900', 'saleprice': '15', 'status': 'sold', 'date': '2021-07-08'}, {'_id': '1', 'name': 'Aniita', 'product': 'Phone', 'amount': 2000, 'saleprice': 50000.0, 'status': 'Valid', 'date': '2021-07-08'}, {'_id': 'Mary', 'name': 'Mary', 'product': 'Car', 'amount': 2, 'saleprice': 5000000.0, 'status': 'Valid', 'date': '2021-07-08'}, {'_id': 'Kolawole', 'name': 'Kolawole', 'product': 'Car', 'amount': 4, 'saleprice': 1000000000.0, 'status': 'Valid', 'date': '2021-07-08'}, {'_id': '2', 'name': 'Mary', 'product': 'Car', 'amount': 2, 'saleprice': 2000000.0, 'status': 'Valid', 'date': '2021-07-08'}, {'_id': '11', 'name': 'marvellous A', 'product': 'Pen', 'amount': 20, 'saleprice': 300.0, 'status': 'Branded', 'date': '2021-03-04'}, {'_id': '12', 'name': 'Monday Goodness', 'product': 'Book', 'amount': 4, 'saleprice': 4000.0, 'status': 'Unbranded', 'date': '2021-05-09'}, {'_id': '15', 'name': 'Miracle A', 'product': 'car', 'amount': 4, 'saleprice': 9000000.0, 'status': 'Branded', 'date': '2022-01-01'}, {'_id': '14', 'name': 'Favour S', 'product': 'Houses', 'amount': 3, 'saleprice': 5000000.0, 'status': 'Branded', 'date': '2022-01-01'}, {'_id': '16', 'name': 'mARIA DB', 'product': 'ANY', 'amount': 100, 'saleprice': 1000.0, 'status': 'Unbranded', 'date': '2021-09-03'}]\n"
     ]
    }
   ],
   "source": [
    "print(mylist)"
   ]
  },
  {
   "cell_type": "code",
   "execution_count": 52,
   "metadata": {},
   "outputs": [
    {
     "name": "stdout",
     "output_type": "stream",
     "text": [
      "001\n"
     ]
    }
   ],
   "source": [
    "print(mylist[0]['_id'])"
   ]
  },
  {
   "cell_type": "code",
   "execution_count": 53,
   "metadata": {},
   "outputs": [],
   "source": [
    "import pandas as pd"
   ]
  },
  {
   "cell_type": "code",
   "execution_count": 54,
   "metadata": {},
   "outputs": [
    {
     "data": {
      "text/html": [
       "<div>\n",
       "<style scoped>\n",
       "    .dataframe tbody tr th:only-of-type {\n",
       "        vertical-align: middle;\n",
       "    }\n",
       "\n",
       "    .dataframe tbody tr th {\n",
       "        vertical-align: top;\n",
       "    }\n",
       "\n",
       "    .dataframe thead th {\n",
       "        text-align: right;\n",
       "    }\n",
       "</style>\n",
       "<table border=\"1\" class=\"dataframe\">\n",
       "  <thead>\n",
       "    <tr style=\"text-align: right;\">\n",
       "      <th></th>\n",
       "      <th>_id</th>\n",
       "      <th>name</th>\n",
       "      <th>product</th>\n",
       "      <th>amount</th>\n",
       "      <th>saleprice</th>\n",
       "      <th>status</th>\n",
       "      <th>date</th>\n",
       "    </tr>\n",
       "  </thead>\n",
       "  <tbody>\n",
       "    <tr>\n",
       "      <th>0</th>\n",
       "      <td>001</td>\n",
       "      <td>Mary A</td>\n",
       "      <td>book</td>\n",
       "      <td>900</td>\n",
       "      <td>15</td>\n",
       "      <td>sold</td>\n",
       "      <td>2021-07-08</td>\n",
       "    </tr>\n",
       "    <tr>\n",
       "      <th>1</th>\n",
       "      <td>1</td>\n",
       "      <td>Aniita</td>\n",
       "      <td>Phone</td>\n",
       "      <td>2000</td>\n",
       "      <td>50000</td>\n",
       "      <td>Valid</td>\n",
       "      <td>2021-07-08</td>\n",
       "    </tr>\n",
       "    <tr>\n",
       "      <th>2</th>\n",
       "      <td>Mary</td>\n",
       "      <td>Mary</td>\n",
       "      <td>Car</td>\n",
       "      <td>2</td>\n",
       "      <td>5e+06</td>\n",
       "      <td>Valid</td>\n",
       "      <td>2021-07-08</td>\n",
       "    </tr>\n",
       "    <tr>\n",
       "      <th>3</th>\n",
       "      <td>Kolawole</td>\n",
       "      <td>Kolawole</td>\n",
       "      <td>Car</td>\n",
       "      <td>4</td>\n",
       "      <td>1e+09</td>\n",
       "      <td>Valid</td>\n",
       "      <td>2021-07-08</td>\n",
       "    </tr>\n",
       "    <tr>\n",
       "      <th>4</th>\n",
       "      <td>2</td>\n",
       "      <td>Mary</td>\n",
       "      <td>Car</td>\n",
       "      <td>2</td>\n",
       "      <td>2e+06</td>\n",
       "      <td>Valid</td>\n",
       "      <td>2021-07-08</td>\n",
       "    </tr>\n",
       "    <tr>\n",
       "      <th>5</th>\n",
       "      <td>11</td>\n",
       "      <td>marvellous A</td>\n",
       "      <td>Pen</td>\n",
       "      <td>20</td>\n",
       "      <td>300</td>\n",
       "      <td>Branded</td>\n",
       "      <td>2021-03-04</td>\n",
       "    </tr>\n",
       "    <tr>\n",
       "      <th>6</th>\n",
       "      <td>12</td>\n",
       "      <td>Monday Goodness</td>\n",
       "      <td>Book</td>\n",
       "      <td>4</td>\n",
       "      <td>4000</td>\n",
       "      <td>Unbranded</td>\n",
       "      <td>2021-05-09</td>\n",
       "    </tr>\n",
       "    <tr>\n",
       "      <th>7</th>\n",
       "      <td>15</td>\n",
       "      <td>Miracle A</td>\n",
       "      <td>car</td>\n",
       "      <td>4</td>\n",
       "      <td>9e+06</td>\n",
       "      <td>Branded</td>\n",
       "      <td>2022-01-01</td>\n",
       "    </tr>\n",
       "    <tr>\n",
       "      <th>8</th>\n",
       "      <td>14</td>\n",
       "      <td>Favour S</td>\n",
       "      <td>Houses</td>\n",
       "      <td>3</td>\n",
       "      <td>5e+06</td>\n",
       "      <td>Branded</td>\n",
       "      <td>2022-01-01</td>\n",
       "    </tr>\n",
       "    <tr>\n",
       "      <th>9</th>\n",
       "      <td>16</td>\n",
       "      <td>mARIA DB</td>\n",
       "      <td>ANY</td>\n",
       "      <td>100</td>\n",
       "      <td>1000</td>\n",
       "      <td>Unbranded</td>\n",
       "      <td>2021-09-03</td>\n",
       "    </tr>\n",
       "  </tbody>\n",
       "</table>\n",
       "</div>"
      ],
      "text/plain": [
       "        _id             name product amount saleprice     status        date\n",
       "0       001           Mary A    book    900        15       sold  2021-07-08\n",
       "1         1           Aniita   Phone   2000     50000      Valid  2021-07-08\n",
       "2      Mary             Mary     Car      2     5e+06      Valid  2021-07-08\n",
       "3  Kolawole         Kolawole     Car      4     1e+09      Valid  2021-07-08\n",
       "4         2             Mary     Car      2     2e+06      Valid  2021-07-08\n",
       "5        11     marvellous A     Pen     20       300    Branded  2021-03-04\n",
       "6        12  Monday Goodness    Book      4      4000  Unbranded  2021-05-09\n",
       "7        15        Miracle A     car      4     9e+06    Branded  2022-01-01\n",
       "8        14         Favour S  Houses      3     5e+06    Branded  2022-01-01\n",
       "9        16         mARIA DB     ANY    100      1000  Unbranded  2021-09-03"
      ]
     },
     "execution_count": 54,
     "metadata": {},
     "output_type": "execute_result"
    }
   ],
   "source": [
    "df = pd.DataFrame(mylist)\n",
    "df"
   ]
  },
  {
   "cell_type": "code",
   "execution_count": null,
   "metadata": {},
   "outputs": [],
   "source": [
    "print(mylist)"
   ]
  },
  {
   "cell_type": "code",
   "execution_count": null,
   "metadata": {},
   "outputs": [],
   "source": []
  }
 ],
 "metadata": {
  "kernelspec": {
   "display_name": "Python 3",
   "language": "python",
   "name": "python3"
  },
  "language_info": {
   "codemirror_mode": {
    "name": "ipython",
    "version": 3
   },
   "file_extension": ".py",
   "mimetype": "text/x-python",
   "name": "python",
   "nbconvert_exporter": "python",
   "pygments_lexer": "ipython3",
   "version": "3.8.5"
  }
 },
 "nbformat": 4,
 "nbformat_minor": 4
}
