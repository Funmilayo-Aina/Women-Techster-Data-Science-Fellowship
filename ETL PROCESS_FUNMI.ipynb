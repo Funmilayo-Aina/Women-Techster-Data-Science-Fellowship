{
 "cells": [
  {
   "cell_type": "markdown",
   "metadata": {},
   "source": [
    "### SQLITE3 DATA SOURCE"
   ]
  },
  {
   "cell_type": "code",
   "execution_count": 5,
   "metadata": {},
   "outputs": [],
   "source": [
    "import sqlite3\n",
    "import mysql.connector\n",
    "import pymongo\n",
    "import pandas as pd"
   ]
  },
  {
   "cell_type": "code",
   "execution_count": 6,
   "metadata": {},
   "outputs": [],
   "source": [
    "con = sqlite3.connect('employees.db')"
   ]
  },
  {
   "cell_type": "code",
   "execution_count": 7,
   "metadata": {},
   "outputs": [],
   "source": [
    "cursor = con.cursor()"
   ]
  },
  {
   "cell_type": "code",
   "execution_count": 9,
   "metadata": {},
   "outputs": [],
   "source": [
    "#cursor.execute(\"CREATE TABLE HR(id integer PRIMARY KEY, name text, status text, salary real, department text, position text, hireDate text)\")\n",
    "con.commit()"
   ]
  },
  {
   "cell_type": "code",
   "execution_count": 11,
   "metadata": {},
   "outputs": [
    {
     "name": "stdout",
     "output_type": "stream",
     "text": [
      "Enter your ID: 05\n",
      "Enter your name: paul\n",
      "Enter your status: YEs\n",
      "Enter your salary: 4000\n",
      "Enter your department: IT\n",
      "Enter your position: MD\n",
      "Enter date \"YYYY-M-D\": 2021-08-09\n",
      "Data has been inserted!!!\n",
      "Do you want to continue?\n",
      "Enter 1 to continue and 0 to quit0\n",
      "Thank you!!\n"
     ]
    }
   ],
   "source": [
    "counter = True\n",
    "while counter:\n",
    "    user_id = int(input('Enter your ID: '))\n",
    "    name = input('Enter your name: ')\n",
    "    status = input('Enter your status: ')\n",
    "    salary = float(input('Enter your salary: '))\n",
    "    department = input('Enter your department: ')\n",
    "    position = input('Enter your position: ')\n",
    "    date = input('Enter date \"YYYY-M-D\": ')\n",
    "    entities = (user_id,name,status,salary,department,position,date)\n",
    "    cursor.execute(\"INSERT INTO HR(id,name,status,salary,department,position,hireDate) VALUES(?,?,?,?,?,?,?)\",entities)\n",
    "    con.commit()\n",
    "    print('Data has been inserted!!!')\n",
    "    print('Do you want to continue?')\n",
    "    value = int(input(\"Enter 1 to continue and 0 to quit\"))\n",
    "    if value == 1:\n",
    "        pass\n",
    "    elif value == 0:\n",
    "        print('Thank you!!')\n",
    "        counter = False\n",
    "    else:\n",
    "        break"
   ]
  },
  {
   "cell_type": "code",
   "execution_count": 12,
   "metadata": {},
   "outputs": [],
   "source": [
    "cursor.execute('SELECT * FROM HR')\n",
    "rows = cursor.fetchall()"
   ]
  },
  {
   "cell_type": "code",
   "execution_count": 13,
   "metadata": {},
   "outputs": [
    {
     "name": "stdout",
     "output_type": "stream",
     "text": [
      "(1, 'Adunni', 'Yes', 3000.0, 'IT', 'SR', '2021-02-04')\n",
      "1\n",
      "(2, 'Mercy ', 'Yes', 2000.0, 'IT', 'MG', '2021-06-08')\n",
      "2\n",
      "(3, 'Kayus', 'Yes', 20000.0, 'Technical', 'Hr', '2021-09-03')\n",
      "3\n",
      "(4, 'Kilanko', 'Yes', 40000.0, 'Technical', 'Hr', '2021-05-09')\n",
      "4\n",
      "(5, 'paul', 'YEs', 4000.0, 'IT', 'MD', '2021-08-09')\n",
      "5\n"
     ]
    }
   ],
   "source": [
    "for row in rows:\n",
    "    print(row)\n",
    "    print(row[0])"
   ]
  },
  {
   "cell_type": "code",
   "execution_count": 14,
   "metadata": {},
   "outputs": [],
   "source": [
    "mylist = []"
   ]
  },
  {
   "cell_type": "code",
   "execution_count": 15,
   "metadata": {},
   "outputs": [],
   "source": [
    "for row in rows:\n",
    "    mylist.append({'id':row[0], 'name':row[1], 'status':row[2], 'salary':row[3], 'department':row[4], 'position':row[5], 'data':row[6]})"
   ]
  },
  {
   "cell_type": "code",
   "execution_count": 16,
   "metadata": {},
   "outputs": [],
   "source": [
    "sqlite3_df = pd.DataFrame(mylist)"
   ]
  },
  {
   "cell_type": "code",
   "execution_count": 17,
   "metadata": {},
   "outputs": [
    {
     "name": "stdout",
     "output_type": "stream",
     "text": [
      "   id     name status   salary department position        data\n",
      "0   1   Adunni    Yes   3000.0         IT       SR  2021-02-04\n",
      "1   2   Mercy     Yes   2000.0         IT       MG  2021-06-08\n",
      "2   3    Kayus    Yes  20000.0  Technical       Hr  2021-09-03\n",
      "3   4  Kilanko    Yes  40000.0  Technical       Hr  2021-05-09\n",
      "4   5     paul    YEs   4000.0         IT       MD  2021-08-09\n"
     ]
    }
   ],
   "source": [
    "print(sqlite3_df)"
   ]
  },
  {
   "cell_type": "markdown",
   "metadata": {},
   "source": [
    "# MYSQL Data Source"
   ]
  },
  {
   "cell_type": "code",
   "execution_count": 25,
   "metadata": {},
   "outputs": [],
   "source": [
    "mydb = mysql.connector.connect(host=\"localhost\",user=\"root\",password=\"\")"
   ]
  },
  {
   "cell_type": "code",
   "execution_count": 26,
   "metadata": {},
   "outputs": [],
   "source": [
    "cursor = mydb.cursor()"
   ]
  },
  {
   "cell_type": "code",
   "execution_count": 31,
   "metadata": {},
   "outputs": [],
   "source": [
    "cursor.execute(\"USE employees\")"
   ]
  },
  {
   "cell_type": "code",
   "execution_count": 32,
   "metadata": {},
   "outputs": [],
   "source": [
    "mydb = mysql.connector.connect(host=\"localhost\",user=\"root\",password=\"\",database=\"employees\")"
   ]
  },
  {
   "cell_type": "code",
   "execution_count": 34,
   "metadata": {},
   "outputs": [],
   "source": [
    "#cursor.execute(\"CREATE TABLE IT (id INT AUTO_INCREMENT PRIMARY KEY, name VARCHAR(255), status VARCHAR(255), salary INT, department VARCHAR(255), position VARCHAR(255), high_date VARCHAR(255))\")\n",
    "mydb.commit()"
   ]
  },
  {
   "cell_type": "code",
   "execution_count": 35,
   "metadata": {},
   "outputs": [
    {
     "name": "stdout",
     "output_type": "stream",
     "text": [
      "Enter your name: Winner Emeto\n",
      "Enter your statusYes\n",
      "Enter your salary: 200000\n",
      "Enter your department: IT\n",
      "Enter your position: MG\n",
      "Enter date \"YYYY-M-D\": 2021-01-03\n",
      "Data has been inserted!!!\n",
      "Do you want to continue?\n",
      "Enter 1 to continue and 0 to quit1\n",
      "Enter your name: Samuel A\n",
      "Enter your statusYes\n",
      "Enter your salary: 900000000\n",
      "Enter your department: Technical\n",
      "Enter your position: CEO\n",
      "Enter date \"YYYY-M-D\": 2021-04-08\n",
      "Data has been inserted!!!\n",
      "Do you want to continue?\n",
      "Enter 1 to continue and 0 to quit1\n",
      "Enter your name: Marvellous S\n",
      "Enter your statusYes\n",
      "Enter your salary: 300000\n",
      "Enter your department: IT\n",
      "Enter your position: Hr\n",
      "Enter date \"YYYY-M-D\": 2021-09-09\n",
      "Data has been inserted!!!\n",
      "Do you want to continue?\n",
      "Enter 1 to continue and 0 to quit1\n",
      "Enter your name: Sarah Abel\n",
      "Enter your statusNo\n",
      "Enter your salary: 2000\n",
      "Enter your department: MN\n",
      "Enter your position: Supervisor\n",
      "Enter date \"YYYY-M-D\": 2021-09-09\n",
      "Data has been inserted!!!\n",
      "Do you want to continue?\n",
      "Enter 1 to continue and 0 to quit1\n",
      "Enter your name: Mary Ojoyo\n",
      "Enter your statusYes\n",
      "Enter your salary: 4000\n",
      "Enter your department: IT\n",
      "Enter your position: MG\n",
      "Enter date \"YYYY-M-D\": 2021-08-08\n",
      "Data has been inserted!!!\n",
      "Do you want to continue?\n",
      "Enter 1 to continue and 0 to quit0\n",
      "Thank you!!\n"
     ]
    }
   ],
   "source": [
    "counter = True\n",
    "while counter:\n",
    "    name = input('Enter your name: ')\n",
    "    status = input('Enter your status')\n",
    "    salary = int(input('Enter your salary: '))\n",
    "    department = input('Enter your department: ')\n",
    "    position = input('Enter your position: ')\n",
    "    date = input('Enter date \"YYYY-M-D\": ')\n",
    "    vals = (name,status,salary,department,position,date)\n",
    "    sql = \"INSERT INTO IT(name,status,salary,department,position,high_date) VALUES(%s,%s,%s,%s,%s,%s)\"\n",
    "    cursor.execute(sql,vals)\n",
    "    mydb.commit()\n",
    "    print('Data has been inserted!!!')\n",
    "    print('Do you want to continue?')\n",
    "    value = int(input(\"Enter 1 to continue and 0 to quit\"))\n",
    "    if value == 1:\n",
    "        pass\n",
    "    elif value == 0:\n",
    "        print('Thank you!!')\n",
    "        counter = False\n",
    "    else:\n",
    "        break"
   ]
  },
  {
   "cell_type": "code",
   "execution_count": 36,
   "metadata": {},
   "outputs": [],
   "source": [
    "cursor.execute(\"SELECT * FROM IT\")\n",
    "rows = cursor.fetchall()"
   ]
  },
  {
   "cell_type": "code",
   "execution_count": 37,
   "metadata": {},
   "outputs": [],
   "source": [
    "mylist = []"
   ]
  },
  {
   "cell_type": "code",
   "execution_count": 38,
   "metadata": {},
   "outputs": [],
   "source": [
    "for row in rows:\n",
    "    mylist.append({'id':row[0], 'name':row[1], 'status':row[2], 'salary':row[3], 'department':row[4], 'position':row[5], 'data':row[6]})"
   ]
  },
  {
   "cell_type": "code",
   "execution_count": 39,
   "metadata": {},
   "outputs": [
    {
     "data": {
      "text/html": [
       "<div>\n",
       "<style scoped>\n",
       "    .dataframe tbody tr th:only-of-type {\n",
       "        vertical-align: middle;\n",
       "    }\n",
       "\n",
       "    .dataframe tbody tr th {\n",
       "        vertical-align: top;\n",
       "    }\n",
       "\n",
       "    .dataframe thead th {\n",
       "        text-align: right;\n",
       "    }\n",
       "</style>\n",
       "<table border=\"1\" class=\"dataframe\">\n",
       "  <thead>\n",
       "    <tr style=\"text-align: right;\">\n",
       "      <th></th>\n",
       "      <th>id</th>\n",
       "      <th>name</th>\n",
       "      <th>status</th>\n",
       "      <th>salary</th>\n",
       "      <th>department</th>\n",
       "      <th>position</th>\n",
       "      <th>data</th>\n",
       "    </tr>\n",
       "  </thead>\n",
       "  <tbody>\n",
       "    <tr>\n",
       "      <th>0</th>\n",
       "      <td>1</td>\n",
       "      <td>Emeto Winner</td>\n",
       "      <td>Yes</td>\n",
       "      <td>90000</td>\n",
       "      <td>IT</td>\n",
       "      <td>Facilitator</td>\n",
       "      <td>2021-08-04</td>\n",
       "    </tr>\n",
       "    <tr>\n",
       "      <th>1</th>\n",
       "      <td>2</td>\n",
       "      <td>Peter Obong</td>\n",
       "      <td>No</td>\n",
       "      <td>2000</td>\n",
       "      <td>maintenances</td>\n",
       "      <td>Cleaner</td>\n",
       "      <td>2021-08-01</td>\n",
       "    </tr>\n",
       "    <tr>\n",
       "      <th>2</th>\n",
       "      <td>3</td>\n",
       "      <td>Betty Irabor</td>\n",
       "      <td>Yes</td>\n",
       "      <td>200000</td>\n",
       "      <td>Technical</td>\n",
       "      <td>Data Analyst</td>\n",
       "      <td>2021-09-09</td>\n",
       "    </tr>\n",
       "    <tr>\n",
       "      <th>3</th>\n",
       "      <td>4</td>\n",
       "      <td>Adegbola Olorunloju</td>\n",
       "      <td>Yes</td>\n",
       "      <td>30000</td>\n",
       "      <td>Techncal</td>\n",
       "      <td>Quality Analyst</td>\n",
       "      <td>2021-08-01</td>\n",
       "    </tr>\n",
       "    <tr>\n",
       "      <th>4</th>\n",
       "      <td>5</td>\n",
       "      <td>Mercy Joy</td>\n",
       "      <td>Senior Data Scientist</td>\n",
       "      <td>4000000</td>\n",
       "      <td>IT</td>\n",
       "      <td>Senior Data Scientist</td>\n",
       "      <td>2021-08-08</td>\n",
       "    </tr>\n",
       "    <tr>\n",
       "      <th>5</th>\n",
       "      <td>6</td>\n",
       "      <td>Funmilayo Aina</td>\n",
       "      <td>Yes</td>\n",
       "      <td>2147483647</td>\n",
       "      <td>Technical</td>\n",
       "      <td>Chief Data Scientist</td>\n",
       "      <td>2021-09-09</td>\n",
       "    </tr>\n",
       "    <tr>\n",
       "      <th>6</th>\n",
       "      <td>7</td>\n",
       "      <td>Winner Emeto</td>\n",
       "      <td>Yes</td>\n",
       "      <td>200000</td>\n",
       "      <td>IT</td>\n",
       "      <td>MG</td>\n",
       "      <td>2021-01-03</td>\n",
       "    </tr>\n",
       "    <tr>\n",
       "      <th>7</th>\n",
       "      <td>8</td>\n",
       "      <td>Samuel A</td>\n",
       "      <td>Yes</td>\n",
       "      <td>900000000</td>\n",
       "      <td>Technical</td>\n",
       "      <td>CEO</td>\n",
       "      <td>2021-04-08</td>\n",
       "    </tr>\n",
       "    <tr>\n",
       "      <th>8</th>\n",
       "      <td>9</td>\n",
       "      <td>Marvellous S</td>\n",
       "      <td>Yes</td>\n",
       "      <td>300000</td>\n",
       "      <td>IT</td>\n",
       "      <td>Hr</td>\n",
       "      <td>2021-09-09</td>\n",
       "    </tr>\n",
       "    <tr>\n",
       "      <th>9</th>\n",
       "      <td>10</td>\n",
       "      <td>Sarah Abel</td>\n",
       "      <td>No</td>\n",
       "      <td>2000</td>\n",
       "      <td>MN</td>\n",
       "      <td>Supervisor</td>\n",
       "      <td>2021-09-09</td>\n",
       "    </tr>\n",
       "    <tr>\n",
       "      <th>10</th>\n",
       "      <td>11</td>\n",
       "      <td>Mary Ojoyo</td>\n",
       "      <td>Yes</td>\n",
       "      <td>4000</td>\n",
       "      <td>IT</td>\n",
       "      <td>MG</td>\n",
       "      <td>2021-08-08</td>\n",
       "    </tr>\n",
       "  </tbody>\n",
       "</table>\n",
       "</div>"
      ],
      "text/plain": [
       "    id                 name                 status      salary    department  \\\n",
       "0    1         Emeto Winner                    Yes       90000            IT   \n",
       "1    2          Peter Obong                     No        2000  maintenances   \n",
       "2    3         Betty Irabor                    Yes      200000     Technical   \n",
       "3    4  Adegbola Olorunloju                    Yes       30000      Techncal   \n",
       "4    5            Mercy Joy  Senior Data Scientist     4000000            IT   \n",
       "5    6       Funmilayo Aina                    Yes  2147483647     Technical   \n",
       "6    7         Winner Emeto                    Yes      200000            IT   \n",
       "7    8             Samuel A                    Yes   900000000     Technical   \n",
       "8    9         Marvellous S                    Yes      300000            IT   \n",
       "9   10           Sarah Abel                     No        2000            MN   \n",
       "10  11           Mary Ojoyo                    Yes        4000            IT   \n",
       "\n",
       "                 position        data  \n",
       "0             Facilitator  2021-08-04  \n",
       "1                 Cleaner  2021-08-01  \n",
       "2            Data Analyst  2021-09-09  \n",
       "3         Quality Analyst  2021-08-01  \n",
       "4   Senior Data Scientist  2021-08-08  \n",
       "5    Chief Data Scientist  2021-09-09  \n",
       "6                      MG  2021-01-03  \n",
       "7                     CEO  2021-04-08  \n",
       "8                      Hr  2021-09-09  \n",
       "9              Supervisor  2021-09-09  \n",
       "10                     MG  2021-08-08  "
      ]
     },
     "execution_count": 39,
     "metadata": {},
     "output_type": "execute_result"
    }
   ],
   "source": [
    "mysql_df = pd.DataFrame(mylist)\n",
    "mysql_df"
   ]
  },
  {
   "cell_type": "markdown",
   "metadata": {},
   "source": [
    "# Mongo Data Source"
   ]
  },
  {
   "cell_type": "code",
   "execution_count": 40,
   "metadata": {},
   "outputs": [],
   "source": [
    "myclient = pymongo.MongoClient('mongodb://localhost:27017') #initializing a mongodb connection"
   ]
  },
  {
   "cell_type": "code",
   "execution_count": 41,
   "metadata": {},
   "outputs": [],
   "source": [
    "mydb = myclient['employees'] #createsadatabase called mydatabase"
   ]
  },
  {
   "cell_type": "code",
   "execution_count": 42,
   "metadata": {},
   "outputs": [],
   "source": [
    "mycol = mydb['transactions'] #creates a table(collection) called customers"
   ]
  },
  {
   "cell_type": "code",
   "execution_count": 43,
   "metadata": {},
   "outputs": [],
   "source": [
    "columns = [\"id\",\"name\",\"product\",\"amount\",\"saleprice\",\"status\",\"date\"]"
   ]
  },
  {
   "cell_type": "code",
   "execution_count": 44,
   "metadata": {},
   "outputs": [
    {
     "name": "stdout",
     "output_type": "stream",
     "text": [
      "Id: 17\n",
      "Name: Marvel\n",
      "Product: shoes\n",
      "Amount: 90\n",
      "Saleprice: 300000\n",
      "Status: Branded\n",
      "Date YYYY-M-D: 2022-02-09\n",
      "Data has been inserted!!!\n",
      "Do you want to continue?\n",
      "Enter 1 to continue and 0 to quit: 1\n",
      "Id: 18\n",
      "Name: God is good\n",
      "Product: Bible\n",
      "Amount: 80\n",
      "Saleprice: 2000\n",
      "Status: Branded\n",
      "Date YYYY-M-D: 2021-07-11\n",
      "Data has been inserted!!!\n",
      "Do you want to continue?\n",
      "Enter 1 to continue and 0 to quit: 0\n",
      "Thank you!!\n"
     ]
    }
   ],
   "source": [
    "counter = True\n",
    "while counter:\n",
    "    user_id = input(\"Id: \")\n",
    "    name = input(\"Name: \")\n",
    "    product= input(\"Product: \")\n",
    "    amount = int(input(\"Amount: \"))\n",
    "    saleprice = float(input(\"Saleprice: \"))\n",
    "    status = input(\"Status: \")\n",
    "    date = input(\"Date YYYY-M-D: \")\n",
    "\n",
    "    mydict = {\"_id\":user_id,\"name\":name,\"product\":product,\"amount\":amount,\"saleprice\":saleprice,\"status\":status,\"date\":date}\n",
    "    x = mycol.insert_one(mydict)\n",
    "\n",
    "    print('Data has been inserted!!!')\n",
    "    print('Do you want to continue?')\n",
    "    value = int(input(\"Enter 1 to continue and 0 to quit: \"))\n",
    "    if value == 1:\n",
    "        pass\n",
    "    elif value == 0:\n",
    "        print('Thank you!!')\n",
    "        counter = False\n",
    "    else:\n",
    "        break"
   ]
  },
  {
   "cell_type": "code",
   "execution_count": 45,
   "metadata": {},
   "outputs": [
    {
     "data": {
      "text/plain": [
       "<pymongo.cursor.Cursor at 0x29f7dded880>"
      ]
     },
     "execution_count": 45,
     "metadata": {},
     "output_type": "execute_result"
    }
   ],
   "source": [
    "x = mycol.find()\n",
    "x"
   ]
  },
  {
   "cell_type": "code",
   "execution_count": 46,
   "metadata": {},
   "outputs": [],
   "source": [
    "mylist = []"
   ]
  },
  {
   "cell_type": "code",
   "execution_count": 47,
   "metadata": {},
   "outputs": [
    {
     "name": "stdout",
     "output_type": "stream",
     "text": [
      "{'_id': '001', 'name': 'Mary A', 'product': 'book', 'amount': '900', 'saleprice': '15', 'status': 'sold', 'date': '2021-07-08'}\n",
      "{'_id': '1', 'name': 'Aniita', 'product': 'Phone', 'amount': 2000, 'saleprice': 50000.0, 'status': 'Valid', 'date': '2021-07-08'}\n",
      "{'_id': 'Mary', 'name': 'Mary', 'product': 'Car', 'amount': 2, 'saleprice': 5000000.0, 'status': 'Valid', 'date': '2021-07-08'}\n",
      "{'_id': 'Kolawole', 'name': 'Kolawole', 'product': 'Car', 'amount': 4, 'saleprice': 1000000000.0, 'status': 'Valid', 'date': '2021-07-08'}\n",
      "{'_id': '2', 'name': 'Mary', 'product': 'Car', 'amount': 2, 'saleprice': 2000000.0, 'status': 'Valid', 'date': '2021-07-08'}\n",
      "{'_id': '11', 'name': 'marvellous A', 'product': 'Pen', 'amount': 20, 'saleprice': 300.0, 'status': 'Branded', 'date': '2021-03-04'}\n",
      "{'_id': '12', 'name': 'Monday Goodness', 'product': 'Book', 'amount': 4, 'saleprice': 4000.0, 'status': 'Unbranded', 'date': '2021-05-09'}\n",
      "{'_id': '15', 'name': 'Miracle A', 'product': 'car', 'amount': 4, 'saleprice': 9000000.0, 'status': 'Branded', 'date': '2022-01-01'}\n",
      "{'_id': '14', 'name': 'Favour S', 'product': 'Houses', 'amount': 3, 'saleprice': 5000000.0, 'status': 'Branded', 'date': '2022-01-01'}\n",
      "{'_id': '16', 'name': 'mARIA DB', 'product': 'ANY', 'amount': 100, 'saleprice': 1000.0, 'status': 'Unbranded', 'date': '2021-09-03'}\n",
      "{'_id': '17', 'name': 'Marvel', 'product': 'shoes', 'amount': 90, 'saleprice': 300000.0, 'status': 'Branded', 'date': '2022-02-09'}\n",
      "{'_id': '18', 'name': 'God is good', 'product': 'Bible', 'amount': 80, 'saleprice': 2000.0, 'status': 'Branded', 'date': '2021-07-11'}\n"
     ]
    }
   ],
   "source": [
    "for data in x:\n",
    "    mylist.append(data)\n",
    "    print(data)"
   ]
  },
  {
   "cell_type": "code",
   "execution_count": 48,
   "metadata": {},
   "outputs": [
    {
     "name": "stdout",
     "output_type": "stream",
     "text": [
      "[{'_id': '001', 'name': 'Mary A', 'product': 'book', 'amount': '900', 'saleprice': '15', 'status': 'sold', 'date': '2021-07-08'}, {'_id': '1', 'name': 'Aniita', 'product': 'Phone', 'amount': 2000, 'saleprice': 50000.0, 'status': 'Valid', 'date': '2021-07-08'}, {'_id': 'Mary', 'name': 'Mary', 'product': 'Car', 'amount': 2, 'saleprice': 5000000.0, 'status': 'Valid', 'date': '2021-07-08'}, {'_id': 'Kolawole', 'name': 'Kolawole', 'product': 'Car', 'amount': 4, 'saleprice': 1000000000.0, 'status': 'Valid', 'date': '2021-07-08'}, {'_id': '2', 'name': 'Mary', 'product': 'Car', 'amount': 2, 'saleprice': 2000000.0, 'status': 'Valid', 'date': '2021-07-08'}, {'_id': '11', 'name': 'marvellous A', 'product': 'Pen', 'amount': 20, 'saleprice': 300.0, 'status': 'Branded', 'date': '2021-03-04'}, {'_id': '12', 'name': 'Monday Goodness', 'product': 'Book', 'amount': 4, 'saleprice': 4000.0, 'status': 'Unbranded', 'date': '2021-05-09'}, {'_id': '15', 'name': 'Miracle A', 'product': 'car', 'amount': 4, 'saleprice': 9000000.0, 'status': 'Branded', 'date': '2022-01-01'}, {'_id': '14', 'name': 'Favour S', 'product': 'Houses', 'amount': 3, 'saleprice': 5000000.0, 'status': 'Branded', 'date': '2022-01-01'}, {'_id': '16', 'name': 'mARIA DB', 'product': 'ANY', 'amount': 100, 'saleprice': 1000.0, 'status': 'Unbranded', 'date': '2021-09-03'}, {'_id': '17', 'name': 'Marvel', 'product': 'shoes', 'amount': 90, 'saleprice': 300000.0, 'status': 'Branded', 'date': '2022-02-09'}, {'_id': '18', 'name': 'God is good', 'product': 'Bible', 'amount': 80, 'saleprice': 2000.0, 'status': 'Branded', 'date': '2021-07-11'}]\n"
     ]
    }
   ],
   "source": [
    "print(mylist)"
   ]
  },
  {
   "cell_type": "code",
   "execution_count": 49,
   "metadata": {},
   "outputs": [
    {
     "data": {
      "text/html": [
       "<div>\n",
       "<style scoped>\n",
       "    .dataframe tbody tr th:only-of-type {\n",
       "        vertical-align: middle;\n",
       "    }\n",
       "\n",
       "    .dataframe tbody tr th {\n",
       "        vertical-align: top;\n",
       "    }\n",
       "\n",
       "    .dataframe thead th {\n",
       "        text-align: right;\n",
       "    }\n",
       "</style>\n",
       "<table border=\"1\" class=\"dataframe\">\n",
       "  <thead>\n",
       "    <tr style=\"text-align: right;\">\n",
       "      <th></th>\n",
       "      <th>_id</th>\n",
       "      <th>name</th>\n",
       "      <th>product</th>\n",
       "      <th>amount</th>\n",
       "      <th>saleprice</th>\n",
       "      <th>status</th>\n",
       "      <th>date</th>\n",
       "    </tr>\n",
       "  </thead>\n",
       "  <tbody>\n",
       "    <tr>\n",
       "      <th>0</th>\n",
       "      <td>001</td>\n",
       "      <td>Mary A</td>\n",
       "      <td>book</td>\n",
       "      <td>900</td>\n",
       "      <td>15</td>\n",
       "      <td>sold</td>\n",
       "      <td>2021-07-08</td>\n",
       "    </tr>\n",
       "    <tr>\n",
       "      <th>1</th>\n",
       "      <td>1</td>\n",
       "      <td>Aniita</td>\n",
       "      <td>Phone</td>\n",
       "      <td>2000</td>\n",
       "      <td>50000</td>\n",
       "      <td>Valid</td>\n",
       "      <td>2021-07-08</td>\n",
       "    </tr>\n",
       "    <tr>\n",
       "      <th>2</th>\n",
       "      <td>Mary</td>\n",
       "      <td>Mary</td>\n",
       "      <td>Car</td>\n",
       "      <td>2</td>\n",
       "      <td>5e+06</td>\n",
       "      <td>Valid</td>\n",
       "      <td>2021-07-08</td>\n",
       "    </tr>\n",
       "    <tr>\n",
       "      <th>3</th>\n",
       "      <td>Kolawole</td>\n",
       "      <td>Kolawole</td>\n",
       "      <td>Car</td>\n",
       "      <td>4</td>\n",
       "      <td>1e+09</td>\n",
       "      <td>Valid</td>\n",
       "      <td>2021-07-08</td>\n",
       "    </tr>\n",
       "    <tr>\n",
       "      <th>4</th>\n",
       "      <td>2</td>\n",
       "      <td>Mary</td>\n",
       "      <td>Car</td>\n",
       "      <td>2</td>\n",
       "      <td>2e+06</td>\n",
       "      <td>Valid</td>\n",
       "      <td>2021-07-08</td>\n",
       "    </tr>\n",
       "    <tr>\n",
       "      <th>5</th>\n",
       "      <td>11</td>\n",
       "      <td>marvellous A</td>\n",
       "      <td>Pen</td>\n",
       "      <td>20</td>\n",
       "      <td>300</td>\n",
       "      <td>Branded</td>\n",
       "      <td>2021-03-04</td>\n",
       "    </tr>\n",
       "    <tr>\n",
       "      <th>6</th>\n",
       "      <td>12</td>\n",
       "      <td>Monday Goodness</td>\n",
       "      <td>Book</td>\n",
       "      <td>4</td>\n",
       "      <td>4000</td>\n",
       "      <td>Unbranded</td>\n",
       "      <td>2021-05-09</td>\n",
       "    </tr>\n",
       "    <tr>\n",
       "      <th>7</th>\n",
       "      <td>15</td>\n",
       "      <td>Miracle A</td>\n",
       "      <td>car</td>\n",
       "      <td>4</td>\n",
       "      <td>9e+06</td>\n",
       "      <td>Branded</td>\n",
       "      <td>2022-01-01</td>\n",
       "    </tr>\n",
       "    <tr>\n",
       "      <th>8</th>\n",
       "      <td>14</td>\n",
       "      <td>Favour S</td>\n",
       "      <td>Houses</td>\n",
       "      <td>3</td>\n",
       "      <td>5e+06</td>\n",
       "      <td>Branded</td>\n",
       "      <td>2022-01-01</td>\n",
       "    </tr>\n",
       "    <tr>\n",
       "      <th>9</th>\n",
       "      <td>16</td>\n",
       "      <td>mARIA DB</td>\n",
       "      <td>ANY</td>\n",
       "      <td>100</td>\n",
       "      <td>1000</td>\n",
       "      <td>Unbranded</td>\n",
       "      <td>2021-09-03</td>\n",
       "    </tr>\n",
       "    <tr>\n",
       "      <th>10</th>\n",
       "      <td>17</td>\n",
       "      <td>Marvel</td>\n",
       "      <td>shoes</td>\n",
       "      <td>90</td>\n",
       "      <td>300000</td>\n",
       "      <td>Branded</td>\n",
       "      <td>2022-02-09</td>\n",
       "    </tr>\n",
       "    <tr>\n",
       "      <th>11</th>\n",
       "      <td>18</td>\n",
       "      <td>God is good</td>\n",
       "      <td>Bible</td>\n",
       "      <td>80</td>\n",
       "      <td>2000</td>\n",
       "      <td>Branded</td>\n",
       "      <td>2021-07-11</td>\n",
       "    </tr>\n",
       "  </tbody>\n",
       "</table>\n",
       "</div>"
      ],
      "text/plain": [
       "         _id             name product amount saleprice     status        date\n",
       "0        001           Mary A    book    900        15       sold  2021-07-08\n",
       "1          1           Aniita   Phone   2000     50000      Valid  2021-07-08\n",
       "2       Mary             Mary     Car      2     5e+06      Valid  2021-07-08\n",
       "3   Kolawole         Kolawole     Car      4     1e+09      Valid  2021-07-08\n",
       "4          2             Mary     Car      2     2e+06      Valid  2021-07-08\n",
       "5         11     marvellous A     Pen     20       300    Branded  2021-03-04\n",
       "6         12  Monday Goodness    Book      4      4000  Unbranded  2021-05-09\n",
       "7         15        Miracle A     car      4     9e+06    Branded  2022-01-01\n",
       "8         14         Favour S  Houses      3     5e+06    Branded  2022-01-01\n",
       "9         16         mARIA DB     ANY    100      1000  Unbranded  2021-09-03\n",
       "10        17           Marvel   shoes     90    300000    Branded  2022-02-09\n",
       "11        18      God is good   Bible     80      2000    Branded  2021-07-11"
      ]
     },
     "execution_count": 49,
     "metadata": {},
     "output_type": "execute_result"
    }
   ],
   "source": [
    "mongoDB_df = pd.DataFrame(mylist)\n",
    "mongoDB_df"
   ]
  },
  {
   "cell_type": "code",
   "execution_count": 51,
   "metadata": {},
   "outputs": [
    {
     "data": {
      "text/html": [
       "<div>\n",
       "<style scoped>\n",
       "    .dataframe tbody tr th:only-of-type {\n",
       "        vertical-align: middle;\n",
       "    }\n",
       "\n",
       "    .dataframe tbody tr th {\n",
       "        vertical-align: top;\n",
       "    }\n",
       "\n",
       "    .dataframe thead th {\n",
       "        text-align: right;\n",
       "    }\n",
       "</style>\n",
       "<table border=\"1\" class=\"dataframe\">\n",
       "  <thead>\n",
       "    <tr style=\"text-align: right;\">\n",
       "      <th></th>\n",
       "      <th>_id</th>\n",
       "      <th>name</th>\n",
       "      <th>product</th>\n",
       "      <th>amount</th>\n",
       "      <th>saleprice</th>\n",
       "      <th>status</th>\n",
       "      <th>date</th>\n",
       "    </tr>\n",
       "  </thead>\n",
       "  <tbody>\n",
       "    <tr>\n",
       "      <th>0</th>\n",
       "      <td>001</td>\n",
       "      <td>Mary A</td>\n",
       "      <td>book</td>\n",
       "      <td>900</td>\n",
       "      <td>15</td>\n",
       "      <td>sold</td>\n",
       "      <td>2021-07-08</td>\n",
       "    </tr>\n",
       "    <tr>\n",
       "      <th>1</th>\n",
       "      <td>1</td>\n",
       "      <td>Aniita</td>\n",
       "      <td>Phone</td>\n",
       "      <td>2000</td>\n",
       "      <td>50000</td>\n",
       "      <td>Valid</td>\n",
       "      <td>2021-07-08</td>\n",
       "    </tr>\n",
       "    <tr>\n",
       "      <th>2</th>\n",
       "      <td>Mary</td>\n",
       "      <td>Mary</td>\n",
       "      <td>Car</td>\n",
       "      <td>2</td>\n",
       "      <td>5e+06</td>\n",
       "      <td>Valid</td>\n",
       "      <td>2021-07-08</td>\n",
       "    </tr>\n",
       "    <tr>\n",
       "      <th>3</th>\n",
       "      <td>Kolawole</td>\n",
       "      <td>Kolawole</td>\n",
       "      <td>Car</td>\n",
       "      <td>4</td>\n",
       "      <td>1e+09</td>\n",
       "      <td>Valid</td>\n",
       "      <td>2021-07-08</td>\n",
       "    </tr>\n",
       "    <tr>\n",
       "      <th>4</th>\n",
       "      <td>2</td>\n",
       "      <td>Mary</td>\n",
       "      <td>Car</td>\n",
       "      <td>2</td>\n",
       "      <td>2e+06</td>\n",
       "      <td>Valid</td>\n",
       "      <td>2021-07-08</td>\n",
       "    </tr>\n",
       "    <tr>\n",
       "      <th>5</th>\n",
       "      <td>11</td>\n",
       "      <td>marvellous A</td>\n",
       "      <td>Pen</td>\n",
       "      <td>20</td>\n",
       "      <td>300</td>\n",
       "      <td>Branded</td>\n",
       "      <td>2021-03-04</td>\n",
       "    </tr>\n",
       "    <tr>\n",
       "      <th>6</th>\n",
       "      <td>12</td>\n",
       "      <td>Monday Goodness</td>\n",
       "      <td>Book</td>\n",
       "      <td>4</td>\n",
       "      <td>4000</td>\n",
       "      <td>Unbranded</td>\n",
       "      <td>2021-05-09</td>\n",
       "    </tr>\n",
       "    <tr>\n",
       "      <th>7</th>\n",
       "      <td>15</td>\n",
       "      <td>Miracle A</td>\n",
       "      <td>car</td>\n",
       "      <td>4</td>\n",
       "      <td>9e+06</td>\n",
       "      <td>Branded</td>\n",
       "      <td>2022-01-01</td>\n",
       "    </tr>\n",
       "    <tr>\n",
       "      <th>8</th>\n",
       "      <td>14</td>\n",
       "      <td>Favour S</td>\n",
       "      <td>Houses</td>\n",
       "      <td>3</td>\n",
       "      <td>5e+06</td>\n",
       "      <td>Branded</td>\n",
       "      <td>2022-01-01</td>\n",
       "    </tr>\n",
       "    <tr>\n",
       "      <th>9</th>\n",
       "      <td>16</td>\n",
       "      <td>mARIA DB</td>\n",
       "      <td>ANY</td>\n",
       "      <td>100</td>\n",
       "      <td>1000</td>\n",
       "      <td>Unbranded</td>\n",
       "      <td>2021-09-03</td>\n",
       "    </tr>\n",
       "    <tr>\n",
       "      <th>10</th>\n",
       "      <td>17</td>\n",
       "      <td>Marvel</td>\n",
       "      <td>shoes</td>\n",
       "      <td>90</td>\n",
       "      <td>300000</td>\n",
       "      <td>Branded</td>\n",
       "      <td>2022-02-09</td>\n",
       "    </tr>\n",
       "    <tr>\n",
       "      <th>11</th>\n",
       "      <td>18</td>\n",
       "      <td>God is good</td>\n",
       "      <td>Bible</td>\n",
       "      <td>80</td>\n",
       "      <td>2000</td>\n",
       "      <td>Branded</td>\n",
       "      <td>2021-07-11</td>\n",
       "    </tr>\n",
       "  </tbody>\n",
       "</table>\n",
       "</div>"
      ],
      "text/plain": [
       "         _id             name product amount saleprice     status        date\n",
       "0        001           Mary A    book    900        15       sold  2021-07-08\n",
       "1          1           Aniita   Phone   2000     50000      Valid  2021-07-08\n",
       "2       Mary             Mary     Car      2     5e+06      Valid  2021-07-08\n",
       "3   Kolawole         Kolawole     Car      4     1e+09      Valid  2021-07-08\n",
       "4          2             Mary     Car      2     2e+06      Valid  2021-07-08\n",
       "5         11     marvellous A     Pen     20       300    Branded  2021-03-04\n",
       "6         12  Monday Goodness    Book      4      4000  Unbranded  2021-05-09\n",
       "7         15        Miracle A     car      4     9e+06    Branded  2022-01-01\n",
       "8         14         Favour S  Houses      3     5e+06    Branded  2022-01-01\n",
       "9         16         mARIA DB     ANY    100      1000  Unbranded  2021-09-03\n",
       "10        17           Marvel   shoes     90    300000    Branded  2022-02-09\n",
       "11        18      God is good   Bible     80      2000    Branded  2021-07-11"
      ]
     },
     "execution_count": 51,
     "metadata": {},
     "output_type": "execute_result"
    }
   ],
   "source": [
    "#mongoDB_df['total'] = mongoDB_df['amount'] * mongoDB_df['saleprice']\n",
    "mongoDB_df"
   ]
  },
  {
   "cell_type": "markdown",
   "metadata": {},
   "source": [
    "# Pull Data Together"
   ]
  },
  {
   "cell_type": "code",
   "execution_count": 52,
   "metadata": {},
   "outputs": [
    {
     "data": {
      "text/html": [
       "<div>\n",
       "<style scoped>\n",
       "    .dataframe tbody tr th:only-of-type {\n",
       "        vertical-align: middle;\n",
       "    }\n",
       "\n",
       "    .dataframe tbody tr th {\n",
       "        vertical-align: top;\n",
       "    }\n",
       "\n",
       "    .dataframe thead th {\n",
       "        text-align: right;\n",
       "    }\n",
       "</style>\n",
       "<table border=\"1\" class=\"dataframe\">\n",
       "  <thead>\n",
       "    <tr style=\"text-align: right;\">\n",
       "      <th></th>\n",
       "      <th>id</th>\n",
       "      <th>name</th>\n",
       "      <th>status</th>\n",
       "      <th>salary</th>\n",
       "      <th>department</th>\n",
       "      <th>position</th>\n",
       "      <th>data</th>\n",
       "    </tr>\n",
       "  </thead>\n",
       "  <tbody>\n",
       "    <tr>\n",
       "      <th>0</th>\n",
       "      <td>1</td>\n",
       "      <td>Emeto Winner</td>\n",
       "      <td>Yes</td>\n",
       "      <td>90000</td>\n",
       "      <td>IT</td>\n",
       "      <td>Facilitator</td>\n",
       "      <td>2021-08-04</td>\n",
       "    </tr>\n",
       "    <tr>\n",
       "      <th>1</th>\n",
       "      <td>2</td>\n",
       "      <td>Peter Obong</td>\n",
       "      <td>No</td>\n",
       "      <td>2000</td>\n",
       "      <td>maintenances</td>\n",
       "      <td>Cleaner</td>\n",
       "      <td>2021-08-01</td>\n",
       "    </tr>\n",
       "    <tr>\n",
       "      <th>2</th>\n",
       "      <td>3</td>\n",
       "      <td>Betty Irabor</td>\n",
       "      <td>Yes</td>\n",
       "      <td>200000</td>\n",
       "      <td>Technical</td>\n",
       "      <td>Data Analyst</td>\n",
       "      <td>2021-09-09</td>\n",
       "    </tr>\n",
       "    <tr>\n",
       "      <th>3</th>\n",
       "      <td>4</td>\n",
       "      <td>Adegbola Olorunloju</td>\n",
       "      <td>Yes</td>\n",
       "      <td>30000</td>\n",
       "      <td>Techncal</td>\n",
       "      <td>Quality Analyst</td>\n",
       "      <td>2021-08-01</td>\n",
       "    </tr>\n",
       "    <tr>\n",
       "      <th>4</th>\n",
       "      <td>5</td>\n",
       "      <td>Mercy Joy</td>\n",
       "      <td>Senior Data Scientist</td>\n",
       "      <td>4000000</td>\n",
       "      <td>IT</td>\n",
       "      <td>Senior Data Scientist</td>\n",
       "      <td>2021-08-08</td>\n",
       "    </tr>\n",
       "    <tr>\n",
       "      <th>5</th>\n",
       "      <td>6</td>\n",
       "      <td>Funmilayo Aina</td>\n",
       "      <td>Yes</td>\n",
       "      <td>2147483647</td>\n",
       "      <td>Technical</td>\n",
       "      <td>Chief Data Scientist</td>\n",
       "      <td>2021-09-09</td>\n",
       "    </tr>\n",
       "    <tr>\n",
       "      <th>6</th>\n",
       "      <td>7</td>\n",
       "      <td>Winner Emeto</td>\n",
       "      <td>Yes</td>\n",
       "      <td>200000</td>\n",
       "      <td>IT</td>\n",
       "      <td>MG</td>\n",
       "      <td>2021-01-03</td>\n",
       "    </tr>\n",
       "    <tr>\n",
       "      <th>7</th>\n",
       "      <td>8</td>\n",
       "      <td>Samuel A</td>\n",
       "      <td>Yes</td>\n",
       "      <td>900000000</td>\n",
       "      <td>Technical</td>\n",
       "      <td>CEO</td>\n",
       "      <td>2021-04-08</td>\n",
       "    </tr>\n",
       "    <tr>\n",
       "      <th>8</th>\n",
       "      <td>9</td>\n",
       "      <td>Marvellous S</td>\n",
       "      <td>Yes</td>\n",
       "      <td>300000</td>\n",
       "      <td>IT</td>\n",
       "      <td>Hr</td>\n",
       "      <td>2021-09-09</td>\n",
       "    </tr>\n",
       "    <tr>\n",
       "      <th>9</th>\n",
       "      <td>10</td>\n",
       "      <td>Sarah Abel</td>\n",
       "      <td>No</td>\n",
       "      <td>2000</td>\n",
       "      <td>MN</td>\n",
       "      <td>Supervisor</td>\n",
       "      <td>2021-09-09</td>\n",
       "    </tr>\n",
       "    <tr>\n",
       "      <th>10</th>\n",
       "      <td>11</td>\n",
       "      <td>Mary Ojoyo</td>\n",
       "      <td>Yes</td>\n",
       "      <td>4000</td>\n",
       "      <td>IT</td>\n",
       "      <td>MG</td>\n",
       "      <td>2021-08-08</td>\n",
       "    </tr>\n",
       "  </tbody>\n",
       "</table>\n",
       "</div>"
      ],
      "text/plain": [
       "    id                 name                 status      salary    department  \\\n",
       "0    1         Emeto Winner                    Yes       90000            IT   \n",
       "1    2          Peter Obong                     No        2000  maintenances   \n",
       "2    3         Betty Irabor                    Yes      200000     Technical   \n",
       "3    4  Adegbola Olorunloju                    Yes       30000      Techncal   \n",
       "4    5            Mercy Joy  Senior Data Scientist     4000000            IT   \n",
       "5    6       Funmilayo Aina                    Yes  2147483647     Technical   \n",
       "6    7         Winner Emeto                    Yes      200000            IT   \n",
       "7    8             Samuel A                    Yes   900000000     Technical   \n",
       "8    9         Marvellous S                    Yes      300000            IT   \n",
       "9   10           Sarah Abel                     No        2000            MN   \n",
       "10  11           Mary Ojoyo                    Yes        4000            IT   \n",
       "\n",
       "                 position        data  \n",
       "0             Facilitator  2021-08-04  \n",
       "1                 Cleaner  2021-08-01  \n",
       "2            Data Analyst  2021-09-09  \n",
       "3         Quality Analyst  2021-08-01  \n",
       "4   Senior Data Scientist  2021-08-08  \n",
       "5    Chief Data Scientist  2021-09-09  \n",
       "6                      MG  2021-01-03  \n",
       "7                     CEO  2021-04-08  \n",
       "8                      Hr  2021-09-09  \n",
       "9              Supervisor  2021-09-09  \n",
       "10                     MG  2021-08-08  "
      ]
     },
     "execution_count": 52,
     "metadata": {},
     "output_type": "execute_result"
    }
   ],
   "source": [
    "mysql_df"
   ]
  },
  {
   "cell_type": "code",
   "execution_count": 53,
   "metadata": {},
   "outputs": [
    {
     "data": {
      "text/html": [
       "<div>\n",
       "<style scoped>\n",
       "    .dataframe tbody tr th:only-of-type {\n",
       "        vertical-align: middle;\n",
       "    }\n",
       "\n",
       "    .dataframe tbody tr th {\n",
       "        vertical-align: top;\n",
       "    }\n",
       "\n",
       "    .dataframe thead th {\n",
       "        text-align: right;\n",
       "    }\n",
       "</style>\n",
       "<table border=\"1\" class=\"dataframe\">\n",
       "  <thead>\n",
       "    <tr style=\"text-align: right;\">\n",
       "      <th></th>\n",
       "      <th>id</th>\n",
       "      <th>name</th>\n",
       "      <th>status</th>\n",
       "      <th>salary</th>\n",
       "      <th>department</th>\n",
       "      <th>position</th>\n",
       "      <th>data</th>\n",
       "    </tr>\n",
       "  </thead>\n",
       "  <tbody>\n",
       "    <tr>\n",
       "      <th>0</th>\n",
       "      <td>1</td>\n",
       "      <td>Adunni</td>\n",
       "      <td>Yes</td>\n",
       "      <td>3000.0</td>\n",
       "      <td>IT</td>\n",
       "      <td>SR</td>\n",
       "      <td>2021-02-04</td>\n",
       "    </tr>\n",
       "    <tr>\n",
       "      <th>1</th>\n",
       "      <td>2</td>\n",
       "      <td>Mercy</td>\n",
       "      <td>Yes</td>\n",
       "      <td>2000.0</td>\n",
       "      <td>IT</td>\n",
       "      <td>MG</td>\n",
       "      <td>2021-06-08</td>\n",
       "    </tr>\n",
       "    <tr>\n",
       "      <th>2</th>\n",
       "      <td>3</td>\n",
       "      <td>Kayus</td>\n",
       "      <td>Yes</td>\n",
       "      <td>20000.0</td>\n",
       "      <td>Technical</td>\n",
       "      <td>Hr</td>\n",
       "      <td>2021-09-03</td>\n",
       "    </tr>\n",
       "    <tr>\n",
       "      <th>3</th>\n",
       "      <td>4</td>\n",
       "      <td>Kilanko</td>\n",
       "      <td>Yes</td>\n",
       "      <td>40000.0</td>\n",
       "      <td>Technical</td>\n",
       "      <td>Hr</td>\n",
       "      <td>2021-05-09</td>\n",
       "    </tr>\n",
       "    <tr>\n",
       "      <th>4</th>\n",
       "      <td>5</td>\n",
       "      <td>paul</td>\n",
       "      <td>YEs</td>\n",
       "      <td>4000.0</td>\n",
       "      <td>IT</td>\n",
       "      <td>MD</td>\n",
       "      <td>2021-08-09</td>\n",
       "    </tr>\n",
       "  </tbody>\n",
       "</table>\n",
       "</div>"
      ],
      "text/plain": [
       "   id     name status   salary department position        data\n",
       "0   1   Adunni    Yes   3000.0         IT       SR  2021-02-04\n",
       "1   2   Mercy     Yes   2000.0         IT       MG  2021-06-08\n",
       "2   3    Kayus    Yes  20000.0  Technical       Hr  2021-09-03\n",
       "3   4  Kilanko    Yes  40000.0  Technical       Hr  2021-05-09\n",
       "4   5     paul    YEs   4000.0         IT       MD  2021-08-09"
      ]
     },
     "execution_count": 53,
     "metadata": {},
     "output_type": "execute_result"
    }
   ],
   "source": [
    "sqlite3_df"
   ]
  },
  {
   "cell_type": "code",
   "execution_count": 54,
   "metadata": {},
   "outputs": [
    {
     "data": {
      "text/html": [
       "<div>\n",
       "<style scoped>\n",
       "    .dataframe tbody tr th:only-of-type {\n",
       "        vertical-align: middle;\n",
       "    }\n",
       "\n",
       "    .dataframe tbody tr th {\n",
       "        vertical-align: top;\n",
       "    }\n",
       "\n",
       "    .dataframe thead th {\n",
       "        text-align: right;\n",
       "    }\n",
       "</style>\n",
       "<table border=\"1\" class=\"dataframe\">\n",
       "  <thead>\n",
       "    <tr style=\"text-align: right;\">\n",
       "      <th></th>\n",
       "      <th>_id</th>\n",
       "      <th>name</th>\n",
       "      <th>product</th>\n",
       "      <th>amount</th>\n",
       "      <th>saleprice</th>\n",
       "      <th>status</th>\n",
       "      <th>date</th>\n",
       "    </tr>\n",
       "  </thead>\n",
       "  <tbody>\n",
       "    <tr>\n",
       "      <th>0</th>\n",
       "      <td>001</td>\n",
       "      <td>Mary A</td>\n",
       "      <td>book</td>\n",
       "      <td>900</td>\n",
       "      <td>15</td>\n",
       "      <td>sold</td>\n",
       "      <td>2021-07-08</td>\n",
       "    </tr>\n",
       "    <tr>\n",
       "      <th>1</th>\n",
       "      <td>1</td>\n",
       "      <td>Aniita</td>\n",
       "      <td>Phone</td>\n",
       "      <td>2000</td>\n",
       "      <td>50000</td>\n",
       "      <td>Valid</td>\n",
       "      <td>2021-07-08</td>\n",
       "    </tr>\n",
       "    <tr>\n",
       "      <th>2</th>\n",
       "      <td>Mary</td>\n",
       "      <td>Mary</td>\n",
       "      <td>Car</td>\n",
       "      <td>2</td>\n",
       "      <td>5e+06</td>\n",
       "      <td>Valid</td>\n",
       "      <td>2021-07-08</td>\n",
       "    </tr>\n",
       "    <tr>\n",
       "      <th>3</th>\n",
       "      <td>Kolawole</td>\n",
       "      <td>Kolawole</td>\n",
       "      <td>Car</td>\n",
       "      <td>4</td>\n",
       "      <td>1e+09</td>\n",
       "      <td>Valid</td>\n",
       "      <td>2021-07-08</td>\n",
       "    </tr>\n",
       "    <tr>\n",
       "      <th>4</th>\n",
       "      <td>2</td>\n",
       "      <td>Mary</td>\n",
       "      <td>Car</td>\n",
       "      <td>2</td>\n",
       "      <td>2e+06</td>\n",
       "      <td>Valid</td>\n",
       "      <td>2021-07-08</td>\n",
       "    </tr>\n",
       "    <tr>\n",
       "      <th>5</th>\n",
       "      <td>11</td>\n",
       "      <td>marvellous A</td>\n",
       "      <td>Pen</td>\n",
       "      <td>20</td>\n",
       "      <td>300</td>\n",
       "      <td>Branded</td>\n",
       "      <td>2021-03-04</td>\n",
       "    </tr>\n",
       "    <tr>\n",
       "      <th>6</th>\n",
       "      <td>12</td>\n",
       "      <td>Monday Goodness</td>\n",
       "      <td>Book</td>\n",
       "      <td>4</td>\n",
       "      <td>4000</td>\n",
       "      <td>Unbranded</td>\n",
       "      <td>2021-05-09</td>\n",
       "    </tr>\n",
       "    <tr>\n",
       "      <th>7</th>\n",
       "      <td>15</td>\n",
       "      <td>Miracle A</td>\n",
       "      <td>car</td>\n",
       "      <td>4</td>\n",
       "      <td>9e+06</td>\n",
       "      <td>Branded</td>\n",
       "      <td>2022-01-01</td>\n",
       "    </tr>\n",
       "    <tr>\n",
       "      <th>8</th>\n",
       "      <td>14</td>\n",
       "      <td>Favour S</td>\n",
       "      <td>Houses</td>\n",
       "      <td>3</td>\n",
       "      <td>5e+06</td>\n",
       "      <td>Branded</td>\n",
       "      <td>2022-01-01</td>\n",
       "    </tr>\n",
       "    <tr>\n",
       "      <th>9</th>\n",
       "      <td>16</td>\n",
       "      <td>mARIA DB</td>\n",
       "      <td>ANY</td>\n",
       "      <td>100</td>\n",
       "      <td>1000</td>\n",
       "      <td>Unbranded</td>\n",
       "      <td>2021-09-03</td>\n",
       "    </tr>\n",
       "    <tr>\n",
       "      <th>10</th>\n",
       "      <td>17</td>\n",
       "      <td>Marvel</td>\n",
       "      <td>shoes</td>\n",
       "      <td>90</td>\n",
       "      <td>300000</td>\n",
       "      <td>Branded</td>\n",
       "      <td>2022-02-09</td>\n",
       "    </tr>\n",
       "    <tr>\n",
       "      <th>11</th>\n",
       "      <td>18</td>\n",
       "      <td>God is good</td>\n",
       "      <td>Bible</td>\n",
       "      <td>80</td>\n",
       "      <td>2000</td>\n",
       "      <td>Branded</td>\n",
       "      <td>2021-07-11</td>\n",
       "    </tr>\n",
       "  </tbody>\n",
       "</table>\n",
       "</div>"
      ],
      "text/plain": [
       "         _id             name product amount saleprice     status        date\n",
       "0        001           Mary A    book    900        15       sold  2021-07-08\n",
       "1          1           Aniita   Phone   2000     50000      Valid  2021-07-08\n",
       "2       Mary             Mary     Car      2     5e+06      Valid  2021-07-08\n",
       "3   Kolawole         Kolawole     Car      4     1e+09      Valid  2021-07-08\n",
       "4          2             Mary     Car      2     2e+06      Valid  2021-07-08\n",
       "5         11     marvellous A     Pen     20       300    Branded  2021-03-04\n",
       "6         12  Monday Goodness    Book      4      4000  Unbranded  2021-05-09\n",
       "7         15        Miracle A     car      4     9e+06    Branded  2022-01-01\n",
       "8         14         Favour S  Houses      3     5e+06    Branded  2022-01-01\n",
       "9         16         mARIA DB     ANY    100      1000  Unbranded  2021-09-03\n",
       "10        17           Marvel   shoes     90    300000    Branded  2022-02-09\n",
       "11        18      God is good   Bible     80      2000    Branded  2021-07-11"
      ]
     },
     "execution_count": 54,
     "metadata": {},
     "output_type": "execute_result"
    }
   ],
   "source": [
    "mongoDB_df"
   ]
  },
  {
   "cell_type": "markdown",
   "metadata": {},
   "source": [
    "# Creating a Data Warehouse (Using MySQL)"
   ]
  },
  {
   "cell_type": "code",
   "execution_count": 55,
   "metadata": {},
   "outputs": [],
   "source": [
    "# Connecting to MySQL Server\n",
    "mydb = mysql.connector.connect(host=\"localhost\",user=\"root\",password=\"\")"
   ]
  },
  {
   "cell_type": "code",
   "execution_count": 56,
   "metadata": {},
   "outputs": [],
   "source": [
    "# Creating a Cursor object for ex\n",
    "cursor = mydb.cursor()"
   ]
  },
  {
   "cell_type": "code",
   "execution_count": 57,
   "metadata": {},
   "outputs": [],
   "source": [
    "# Creating Datawarehouse in MySQL\n",
    "cursor.execute(\"CREATE DATABASE datawarehouse\")"
   ]
  },
  {
   "cell_type": "code",
   "execution_count": 58,
   "metadata": {},
   "outputs": [],
   "source": [
    "# Connecting to MySQL Server Datawarehouse\n",
    "mydb = mysql.connector.connect(host=\"localhost\",user=\"root\",password=\"\",database='datawarehouse')"
   ]
  },
  {
   "cell_type": "code",
   "execution_count": 59,
   "metadata": {},
   "outputs": [],
   "source": [
    "# Creating a Cursor object for Datawarehouse\n",
    "cursor = mydb.cursor()"
   ]
  },
  {
   "cell_type": "markdown",
   "metadata": {},
   "source": [
    "# LOAD FUNCTIONS"
   ]
  },
  {
   "cell_type": "code",
   "execution_count": 60,
   "metadata": {},
   "outputs": [],
   "source": [
    "def create_table(table_name):\n",
    "    cursor.execute(f\"CREATE TABLE {table_name} (id INT AUTO_INCREMENT PRIMARY KEY, name VARCHAR(255), status VARCHAR(255), salary INT, department VARCHAR(255), position VARCHAR(255), high_date VARCHAR(255))\")\n",
    "    mydb.commit()"
   ]
  },
  {
   "cell_type": "code",
   "execution_count": 61,
   "metadata": {},
   "outputs": [],
   "source": [
    "def convert_dataframe(dataframe):\n",
    "    data_dict = dataframe.to_dict()\n",
    "    return data_dict"
   ]
  },
  {
   "cell_type": "code",
   "execution_count": 62,
   "metadata": {},
   "outputs": [],
   "source": [
    "def insert_query(table):\n",
    "    sql = f\"INSERT INTO {table}(name,status,salary,department,position,high_date) VALUES(%s,%s,%s,%s,%s,%s)\"\n",
    "    return sql"
   ]
  },
  {
   "cell_type": "code",
   "execution_count": 63,
   "metadata": {},
   "outputs": [],
   "source": [
    "def load(data_dict,sql):\n",
    "    counter = len(data_dict[\"name\"].values())-1\n",
    "\n",
    "    while counter >= 0:\n",
    "        global name\n",
    "        name = data_dict['name'][counter]\n",
    "        global status\n",
    "        status = data_dict['status'][counter]\n",
    "        global salary\n",
    "        salary = data_dict['salary'][counter]\n",
    "        global department\n",
    "        department = data_dict['department'][counter]\n",
    "        global position\n",
    "        position = data_dict['position'][counter]\n",
    "        global date\n",
    "        date = data_dict['data'][counter]\n",
    "        vals = (name,status,salary,department,position,date)\n",
    "        cursor.execute(sql,vals)\n",
    "        mydb.commit()\n",
    "\n",
    "        counter -= 1\n",
    "        if counter == 0:\n",
    "            print(\"All data has been inserted!!!\")"
   ]
  },
  {
   "cell_type": "markdown",
   "metadata": {},
   "source": [
    "# LOAD FUNCTIONS FOR MongoDB"
   ]
  },
  {
   "cell_type": "code",
   "execution_count": 64,
   "metadata": {},
   "outputs": [],
   "source": [
    "def create_table_mdb(table_name):\n",
    "    cursor.execute(f\"CREATE TABLE {table_name} (id INT AUTO_INCREMENT PRIMARY KEY, name VARCHAR(255), product VARCHAR(255), amount INT, saleprice INT, status VARCHAR(255), date VARCHAR(255), total VARCHAR(255))\")\n",
    "    mydb.commit()"
   ]
  },
  {
   "cell_type": "code",
   "execution_count": 65,
   "metadata": {},
   "outputs": [],
   "source": [
    "def insert_query_mdb(table):\n",
    "    sql = f\"INSERT INTO {table}(name,product,amount,saleprice,status,date,total) VALUES(%s,%s,%s,%s,%s,%s,%s)\"\n",
    "    return sql"
   ]
  },
  {
   "cell_type": "code",
   "execution_count": 66,
   "metadata": {},
   "outputs": [],
   "source": [
    "def load_mdb(data_dict,sql):\n",
    "    counter = len(data_dict[\"name\"].values())-1\n",
    "\n",
    "    while counter >= 0:\n",
    "        global name\n",
    "        name = data_dict['name'][counter]\n",
    "        global product\n",
    "        product = data_dict['product'][counter]\n",
    "        global amount\n",
    "        amount = data_dict['amount'][counter]\n",
    "        global saleprice\n",
    "        saleprice = data_dict['saleprice'][counter]\n",
    "        global status\n",
    "        status = data_dict['status'][counter]\n",
    "        global date\n",
    "        date = data_dict['date'][counter]\n",
    "        global total\n",
    "        total = data_dict['total'][counter]\n",
    "        vals = (name,product,amount,saleprice,status,date,total)\n",
    "        cursor.execute(sql,vals)\n",
    "        mydb.commit()\n",
    "\n",
    "        counter -= 1\n",
    "        if counter == 0:\n",
    "            print(\"All data has been inserted!!!\")"
   ]
  },
  {
   "cell_type": "markdown",
   "metadata": {},
   "source": [
    "# MySQL Table in Datawarehouse to store MySQL data source"
   ]
  },
  {
   "cell_type": "code",
   "execution_count": 67,
   "metadata": {},
   "outputs": [],
   "source": [
    "create_table(\"IT\")"
   ]
  },
  {
   "cell_type": "code",
   "execution_count": 68,
   "metadata": {},
   "outputs": [
    {
     "data": {
      "text/plain": [
       "{'name': {0: 'Emeto Winner',\n",
       "  1: 'Peter Obong',\n",
       "  2: 'Betty Irabor',\n",
       "  3: 'Adegbola Olorunloju',\n",
       "  4: 'Mercy Joy',\n",
       "  5: 'Funmilayo Aina',\n",
       "  6: 'Winner Emeto',\n",
       "  7: 'Samuel A',\n",
       "  8: 'Marvellous S',\n",
       "  9: 'Sarah Abel',\n",
       "  10: 'Mary Ojoyo'},\n",
       " 'status': {0: 'Yes',\n",
       "  1: 'No',\n",
       "  2: 'Yes',\n",
       "  3: 'Yes',\n",
       "  4: 'Senior Data Scientist',\n",
       "  5: 'Yes',\n",
       "  6: 'Yes',\n",
       "  7: 'Yes',\n",
       "  8: 'Yes',\n",
       "  9: 'No',\n",
       "  10: 'Yes'},\n",
       " 'salary': {0: 90000,\n",
       "  1: 2000,\n",
       "  2: 200000,\n",
       "  3: 30000,\n",
       "  4: 4000000,\n",
       "  5: 2147483647,\n",
       "  6: 200000,\n",
       "  7: 900000000,\n",
       "  8: 300000,\n",
       "  9: 2000,\n",
       "  10: 4000},\n",
       " 'department': {0: 'IT',\n",
       "  1: 'maintenances',\n",
       "  2: 'Technical',\n",
       "  3: 'Techncal',\n",
       "  4: 'IT',\n",
       "  5: 'Technical',\n",
       "  6: 'IT',\n",
       "  7: 'Technical',\n",
       "  8: 'IT',\n",
       "  9: 'MN',\n",
       "  10: 'IT'},\n",
       " 'position': {0: 'Facilitator',\n",
       "  1: 'Cleaner',\n",
       "  2: 'Data Analyst',\n",
       "  3: 'Quality Analyst',\n",
       "  4: 'Senior Data Scientist',\n",
       "  5: 'Chief Data Scientist',\n",
       "  6: 'MG',\n",
       "  7: 'CEO',\n",
       "  8: 'Hr',\n",
       "  9: 'Supervisor',\n",
       "  10: 'MG'},\n",
       " 'data': {0: '2021-08-04',\n",
       "  1: '2021-08-01',\n",
       "  2: '2021-09-09',\n",
       "  3: '2021-08-01',\n",
       "  4: '2021-08-08',\n",
       "  5: '2021-09-09',\n",
       "  6: '2021-01-03',\n",
       "  7: '2021-04-08',\n",
       "  8: '2021-09-09',\n",
       "  9: '2021-09-09',\n",
       "  10: '2021-08-08'}}"
      ]
     },
     "execution_count": 68,
     "metadata": {},
     "output_type": "execute_result"
    }
   ],
   "source": [
    "mysql_dict = convert_dataframe(mysql_df)\n",
    "mysql_dict.pop('id')\n",
    "mysql_dict"
   ]
  },
  {
   "cell_type": "code",
   "execution_count": 69,
   "metadata": {},
   "outputs": [
    {
     "name": "stdout",
     "output_type": "stream",
     "text": [
      "All data has been inserted!!!\n"
     ]
    }
   ],
   "source": [
    "sql = insert_query(\"IT\")\n",
    "load(mysql_dict,sql)"
   ]
  },
  {
   "cell_type": "markdown",
   "metadata": {},
   "source": [
    "# SQLITE3 Table in Datawarehouse to store SQLite3 data source"
   ]
  },
  {
   "cell_type": "code",
   "execution_count": 70,
   "metadata": {},
   "outputs": [],
   "source": [
    "create_table(\"HR\")"
   ]
  },
  {
   "cell_type": "code",
   "execution_count": 71,
   "metadata": {},
   "outputs": [
    {
     "data": {
      "text/plain": [
       "{'name': {0: 'Adunni', 1: 'Mercy ', 2: 'Kayus', 3: 'Kilanko', 4: 'paul'},\n",
       " 'status': {0: 'Yes', 1: 'Yes', 2: 'Yes', 3: 'Yes', 4: 'YEs'},\n",
       " 'salary': {0: 3000.0, 1: 2000.0, 2: 20000.0, 3: 40000.0, 4: 4000.0},\n",
       " 'department': {0: 'IT', 1: 'IT', 2: 'Technical', 3: 'Technical', 4: 'IT'},\n",
       " 'position': {0: 'SR', 1: 'MG', 2: 'Hr', 3: 'Hr', 4: 'MD'},\n",
       " 'data': {0: '2021-02-04',\n",
       "  1: '2021-06-08',\n",
       "  2: '2021-09-03',\n",
       "  3: '2021-05-09',\n",
       "  4: '2021-08-09'}}"
      ]
     },
     "execution_count": 71,
     "metadata": {},
     "output_type": "execute_result"
    }
   ],
   "source": [
    "sqlite3_dict = convert_dataframe(sqlite3_df)\n",
    "sqlite3_dict.pop(\"id\")\n",
    "sqlite3_dict"
   ]
  },
  {
   "cell_type": "code",
   "execution_count": 72,
   "metadata": {},
   "outputs": [
    {
     "name": "stdout",
     "output_type": "stream",
     "text": [
      "All data has been inserted!!!\n"
     ]
    }
   ],
   "source": [
    "sql = insert_query(\"HR\")\n",
    "load(sqlite3_dict,sql)"
   ]
  },
  {
   "cell_type": "markdown",
   "metadata": {},
   "source": [
    "# MongoDB Table in Datawarehouse to store MongoDB data source"
   ]
  },
  {
   "cell_type": "code",
   "execution_count": 73,
   "metadata": {},
   "outputs": [],
   "source": [
    "create_table_mdb(\"transactions\")"
   ]
  },
  {
   "cell_type": "code",
   "execution_count": 74,
   "metadata": {},
   "outputs": [
    {
     "data": {
      "text/plain": [
       "{'name': {0: 'Mary A',\n",
       "  1: 'Aniita',\n",
       "  2: 'Mary',\n",
       "  3: 'Kolawole',\n",
       "  4: 'Mary',\n",
       "  5: 'marvellous A',\n",
       "  6: 'Monday Goodness',\n",
       "  7: 'Miracle A',\n",
       "  8: 'Favour S',\n",
       "  9: 'mARIA DB',\n",
       "  10: 'Marvel',\n",
       "  11: 'God is good'},\n",
       " 'product': {0: 'book',\n",
       "  1: 'Phone',\n",
       "  2: 'Car',\n",
       "  3: 'Car',\n",
       "  4: 'Car',\n",
       "  5: 'Pen',\n",
       "  6: 'Book',\n",
       "  7: 'car',\n",
       "  8: 'Houses',\n",
       "  9: 'ANY',\n",
       "  10: 'shoes',\n",
       "  11: 'Bible'},\n",
       " 'amount': {0: '900',\n",
       "  1: 2000,\n",
       "  2: 2,\n",
       "  3: 4,\n",
       "  4: 2,\n",
       "  5: 20,\n",
       "  6: 4,\n",
       "  7: 4,\n",
       "  8: 3,\n",
       "  9: 100,\n",
       "  10: 90,\n",
       "  11: 80},\n",
       " 'saleprice': {0: '15',\n",
       "  1: 50000.0,\n",
       "  2: 5000000.0,\n",
       "  3: 1000000000.0,\n",
       "  4: 2000000.0,\n",
       "  5: 300.0,\n",
       "  6: 4000.0,\n",
       "  7: 9000000.0,\n",
       "  8: 5000000.0,\n",
       "  9: 1000.0,\n",
       "  10: 300000.0,\n",
       "  11: 2000.0},\n",
       " 'status': {0: 'sold',\n",
       "  1: 'Valid',\n",
       "  2: 'Valid',\n",
       "  3: 'Valid',\n",
       "  4: 'Valid',\n",
       "  5: 'Branded',\n",
       "  6: 'Unbranded',\n",
       "  7: 'Branded',\n",
       "  8: 'Branded',\n",
       "  9: 'Unbranded',\n",
       "  10: 'Branded',\n",
       "  11: 'Branded'},\n",
       " 'date': {0: '2021-07-08',\n",
       "  1: '2021-07-08',\n",
       "  2: '2021-07-08',\n",
       "  3: '2021-07-08',\n",
       "  4: '2021-07-08',\n",
       "  5: '2021-03-04',\n",
       "  6: '2021-05-09',\n",
       "  7: '2022-01-01',\n",
       "  8: '2022-01-01',\n",
       "  9: '2021-09-03',\n",
       "  10: '2022-02-09',\n",
       "  11: '2021-07-11'}}"
      ]
     },
     "execution_count": 74,
     "metadata": {},
     "output_type": "execute_result"
    }
   ],
   "source": [
    "mongodb_dict = convert_dataframe(mongoDB_df)\n",
    "mongodb_dict.pop(\"_id\")\n",
    "mongodb_dict"
   ]
  },
  {
   "cell_type": "code",
   "execution_count": 77,
   "metadata": {},
   "outputs": [],
   "source": [
    "#sql = insert_query_mdb(\"transactions\")\n",
    "#load_mdb(mongodb_dict,sql)"
   ]
  },
  {
   "cell_type": "code",
   "execution_count": null,
   "metadata": {},
   "outputs": [],
   "source": []
  },
  {
   "cell_type": "code",
   "execution_count": null,
   "metadata": {},
   "outputs": [],
   "source": []
  },
  {
   "cell_type": "code",
   "execution_count": null,
   "metadata": {},
   "outputs": [],
   "source": []
  },
  {
   "cell_type": "code",
   "execution_count": null,
   "metadata": {},
   "outputs": [],
   "source": []
  },
  {
   "cell_type": "code",
   "execution_count": null,
   "metadata": {},
   "outputs": [],
   "source": []
  }
 ],
 "metadata": {
  "kernelspec": {
   "display_name": "Python 3",
   "language": "python",
   "name": "python3"
  },
  "language_info": {
   "codemirror_mode": {
    "name": "ipython",
    "version": 3
   },
   "file_extension": ".py",
   "mimetype": "text/x-python",
   "name": "python",
   "nbconvert_exporter": "python",
   "pygments_lexer": "ipython3",
   "version": "3.8.5"
  }
 },
 "nbformat": 4,
 "nbformat_minor": 4
}
